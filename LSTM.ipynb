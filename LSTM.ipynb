{
  "cells": [
    {
      "cell_type": "markdown",
      "metadata": {
        "id": "view-in-github",
        "colab_type": "text"
      },
      "source": [
        "<a href=\"https://colab.research.google.com/github/abhishek210597/ML_DL_using_Python/blob/main/LSTM.ipynb\" target=\"_parent\"><img src=\"https://colab.research.google.com/assets/colab-badge.svg\" alt=\"Open In Colab\"/></a>"
      ]
    },
    {
      "cell_type": "markdown",
      "metadata": {
        "id": "eIy61TQmMOdV"
      },
      "source": [
        "##LSTM model"
      ]
    },
    {
      "cell_type": "code",
      "execution_count": null,
      "metadata": {
        "id": "vHt739pWMNiI"
      },
      "outputs": [],
      "source": [
        "import pandas as pd\n",
        "import matplotlib.pyplot as plt\n",
        "import numpy as np"
      ]
    },
    {
      "cell_type": "code",
      "execution_count": null,
      "metadata": {
        "colab": {
          "base_uri": "https://localhost:8080/",
          "height": 423
        },
        "id": "3jF4AygbMivZ",
        "outputId": "9ac37976-fec5-4d0b-cd90-4966ba5fd0e5"
      },
      "outputs": [
        {
          "data": {
            "text/html": [
              "\n",
              "  <div id=\"df-bd61cb15-cf5e-48c1-b832-15a8d4493451\">\n",
              "    <div class=\"colab-df-container\">\n",
              "      <div>\n",
              "<style scoped>\n",
              "    .dataframe tbody tr th:only-of-type {\n",
              "        vertical-align: middle;\n",
              "    }\n",
              "\n",
              "    .dataframe tbody tr th {\n",
              "        vertical-align: top;\n",
              "    }\n",
              "\n",
              "    .dataframe thead th {\n",
              "        text-align: right;\n",
              "    }\n",
              "</style>\n",
              "<table border=\"1\" class=\"dataframe\">\n",
              "  <thead>\n",
              "    <tr style=\"text-align: right;\">\n",
              "      <th></th>\n",
              "      <th>Date</th>\n",
              "      <th>Open</th>\n",
              "      <th>High</th>\n",
              "      <th>Low</th>\n",
              "      <th>Close</th>\n",
              "      <th>Adj Close</th>\n",
              "      <th>Volume</th>\n",
              "    </tr>\n",
              "  </thead>\n",
              "  <tbody>\n",
              "    <tr>\n",
              "      <th>0</th>\n",
              "      <td>2022-06-22</td>\n",
              "      <td>67600.000000</td>\n",
              "      <td>68230.000000</td>\n",
              "      <td>67350.000000</td>\n",
              "      <td>68040.601563</td>\n",
              "      <td>67913.750000</td>\n",
              "      <td>4849</td>\n",
              "    </tr>\n",
              "    <tr>\n",
              "      <th>1</th>\n",
              "      <td>2022-06-23</td>\n",
              "      <td>68040.601563</td>\n",
              "      <td>69280.000000</td>\n",
              "      <td>68040.546875</td>\n",
              "      <td>69006.203125</td>\n",
              "      <td>68877.554688</td>\n",
              "      <td>7455</td>\n",
              "    </tr>\n",
              "    <tr>\n",
              "      <th>2</th>\n",
              "      <td>2022-06-24</td>\n",
              "      <td>68900.000000</td>\n",
              "      <td>70775.000000</td>\n",
              "      <td>68900.000000</td>\n",
              "      <td>70553.000000</td>\n",
              "      <td>70421.460938</td>\n",
              "      <td>12532</td>\n",
              "    </tr>\n",
              "    <tr>\n",
              "      <th>3</th>\n",
              "      <td>2022-06-27</td>\n",
              "      <td>71200.000000</td>\n",
              "      <td>71907.703125</td>\n",
              "      <td>70900.000000</td>\n",
              "      <td>71221.750000</td>\n",
              "      <td>71088.976563</td>\n",
              "      <td>8117</td>\n",
              "    </tr>\n",
              "    <tr>\n",
              "      <th>4</th>\n",
              "      <td>2022-06-28</td>\n",
              "      <td>71000.000000</td>\n",
              "      <td>72599.750000</td>\n",
              "      <td>70567.703125</td>\n",
              "      <td>72268.648438</td>\n",
              "      <td>72133.921875</td>\n",
              "      <td>10643</td>\n",
              "    </tr>\n",
              "    <tr>\n",
              "      <th>...</th>\n",
              "      <td>...</td>\n",
              "      <td>...</td>\n",
              "      <td>...</td>\n",
              "      <td>...</td>\n",
              "      <td>...</td>\n",
              "      <td>...</td>\n",
              "      <td>...</td>\n",
              "    </tr>\n",
              "    <tr>\n",
              "      <th>206</th>\n",
              "      <td>2023-04-24</td>\n",
              "      <td>86945.000000</td>\n",
              "      <td>87200.000000</td>\n",
              "      <td>86300.000000</td>\n",
              "      <td>86896.148438</td>\n",
              "      <td>86896.148438</td>\n",
              "      <td>3160</td>\n",
              "    </tr>\n",
              "    <tr>\n",
              "      <th>207</th>\n",
              "      <td>2023-04-25</td>\n",
              "      <td>87100.000000</td>\n",
              "      <td>87399.953125</td>\n",
              "      <td>86086.000000</td>\n",
              "      <td>86561.453125</td>\n",
              "      <td>86561.453125</td>\n",
              "      <td>3991</td>\n",
              "    </tr>\n",
              "    <tr>\n",
              "      <th>208</th>\n",
              "      <td>2023-04-26</td>\n",
              "      <td>86550.000000</td>\n",
              "      <td>87332.898438</td>\n",
              "      <td>86400.000000</td>\n",
              "      <td>87231.203125</td>\n",
              "      <td>87231.203125</td>\n",
              "      <td>4413</td>\n",
              "    </tr>\n",
              "    <tr>\n",
              "      <th>209</th>\n",
              "      <td>2023-04-27</td>\n",
              "      <td>87497.000000</td>\n",
              "      <td>87600.000000</td>\n",
              "      <td>86810.000000</td>\n",
              "      <td>87455.898438</td>\n",
              "      <td>87455.898438</td>\n",
              "      <td>3368</td>\n",
              "    </tr>\n",
              "    <tr>\n",
              "      <th>210</th>\n",
              "      <td>2023-04-28</td>\n",
              "      <td>87437.351563</td>\n",
              "      <td>89300.000000</td>\n",
              "      <td>87376.000000</td>\n",
              "      <td>89006.796875</td>\n",
              "      <td>89006.796875</td>\n",
              "      <td>7620</td>\n",
              "    </tr>\n",
              "  </tbody>\n",
              "</table>\n",
              "<p>211 rows × 7 columns</p>\n",
              "</div>\n",
              "      <button class=\"colab-df-convert\" onclick=\"convertToInteractive('df-bd61cb15-cf5e-48c1-b832-15a8d4493451')\"\n",
              "              title=\"Convert this dataframe to an interactive table.\"\n",
              "              style=\"display:none;\">\n",
              "        \n",
              "  <svg xmlns=\"http://www.w3.org/2000/svg\" height=\"24px\"viewBox=\"0 0 24 24\"\n",
              "       width=\"24px\">\n",
              "    <path d=\"M0 0h24v24H0V0z\" fill=\"none\"/>\n",
              "    <path d=\"M18.56 5.44l.94 2.06.94-2.06 2.06-.94-2.06-.94-.94-2.06-.94 2.06-2.06.94zm-11 1L8.5 8.5l.94-2.06 2.06-.94-2.06-.94L8.5 2.5l-.94 2.06-2.06.94zm10 10l.94 2.06.94-2.06 2.06-.94-2.06-.94-.94-2.06-.94 2.06-2.06.94z\"/><path d=\"M17.41 7.96l-1.37-1.37c-.4-.4-.92-.59-1.43-.59-.52 0-1.04.2-1.43.59L10.3 9.45l-7.72 7.72c-.78.78-.78 2.05 0 2.83L4 21.41c.39.39.9.59 1.41.59.51 0 1.02-.2 1.41-.59l7.78-7.78 2.81-2.81c.8-.78.8-2.07 0-2.86zM5.41 20L4 18.59l7.72-7.72 1.47 1.35L5.41 20z\"/>\n",
              "  </svg>\n",
              "      </button>\n",
              "      \n",
              "  <style>\n",
              "    .colab-df-container {\n",
              "      display:flex;\n",
              "      flex-wrap:wrap;\n",
              "      gap: 12px;\n",
              "    }\n",
              "\n",
              "    .colab-df-convert {\n",
              "      background-color: #E8F0FE;\n",
              "      border: none;\n",
              "      border-radius: 50%;\n",
              "      cursor: pointer;\n",
              "      display: none;\n",
              "      fill: #1967D2;\n",
              "      height: 32px;\n",
              "      padding: 0 0 0 0;\n",
              "      width: 32px;\n",
              "    }\n",
              "\n",
              "    .colab-df-convert:hover {\n",
              "      background-color: #E2EBFA;\n",
              "      box-shadow: 0px 1px 2px rgba(60, 64, 67, 0.3), 0px 1px 3px 1px rgba(60, 64, 67, 0.15);\n",
              "      fill: #174EA6;\n",
              "    }\n",
              "\n",
              "    [theme=dark] .colab-df-convert {\n",
              "      background-color: #3B4455;\n",
              "      fill: #D2E3FC;\n",
              "    }\n",
              "\n",
              "    [theme=dark] .colab-df-convert:hover {\n",
              "      background-color: #434B5C;\n",
              "      box-shadow: 0px 1px 3px 1px rgba(0, 0, 0, 0.15);\n",
              "      filter: drop-shadow(0px 1px 2px rgba(0, 0, 0, 0.3));\n",
              "      fill: #FFFFFF;\n",
              "    }\n",
              "  </style>\n",
              "\n",
              "      <script>\n",
              "        const buttonEl =\n",
              "          document.querySelector('#df-bd61cb15-cf5e-48c1-b832-15a8d4493451 button.colab-df-convert');\n",
              "        buttonEl.style.display =\n",
              "          google.colab.kernel.accessAllowed ? 'block' : 'none';\n",
              "\n",
              "        async function convertToInteractive(key) {\n",
              "          const element = document.querySelector('#df-bd61cb15-cf5e-48c1-b832-15a8d4493451');\n",
              "          const dataTable =\n",
              "            await google.colab.kernel.invokeFunction('convertToInteractive',\n",
              "                                                     [key], {});\n",
              "          if (!dataTable) return;\n",
              "\n",
              "          const docLinkHtml = 'Like what you see? Visit the ' +\n",
              "            '<a target=\"_blank\" href=https://colab.research.google.com/notebooks/data_table.ipynb>data table notebook</a>'\n",
              "            + ' to learn more about interactive tables.';\n",
              "          element.innerHTML = '';\n",
              "          dataTable['output_type'] = 'display_data';\n",
              "          await google.colab.output.renderOutput(dataTable, element);\n",
              "          const docLink = document.createElement('div');\n",
              "          docLink.innerHTML = docLinkHtml;\n",
              "          element.appendChild(docLink);\n",
              "        }\n",
              "      </script>\n",
              "    </div>\n",
              "  </div>\n",
              "  "
            ],
            "text/plain": [
              "           Date          Open          High           Low         Close  \\\n",
              "0    2022-06-22  67600.000000  68230.000000  67350.000000  68040.601563   \n",
              "1    2022-06-23  68040.601563  69280.000000  68040.546875  69006.203125   \n",
              "2    2022-06-24  68900.000000  70775.000000  68900.000000  70553.000000   \n",
              "3    2022-06-27  71200.000000  71907.703125  70900.000000  71221.750000   \n",
              "4    2022-06-28  71000.000000  72599.750000  70567.703125  72268.648438   \n",
              "..          ...           ...           ...           ...           ...   \n",
              "206  2023-04-24  86945.000000  87200.000000  86300.000000  86896.148438   \n",
              "207  2023-04-25  87100.000000  87399.953125  86086.000000  86561.453125   \n",
              "208  2023-04-26  86550.000000  87332.898438  86400.000000  87231.203125   \n",
              "209  2023-04-27  87497.000000  87600.000000  86810.000000  87455.898438   \n",
              "210  2023-04-28  87437.351563  89300.000000  87376.000000  89006.796875   \n",
              "\n",
              "        Adj Close  Volume  \n",
              "0    67913.750000    4849  \n",
              "1    68877.554688    7455  \n",
              "2    70421.460938   12532  \n",
              "3    71088.976563    8117  \n",
              "4    72133.921875   10643  \n",
              "..            ...     ...  \n",
              "206  86896.148438    3160  \n",
              "207  86561.453125    3991  \n",
              "208  87231.203125    4413  \n",
              "209  87455.898438    3368  \n",
              "210  89006.796875    7620  \n",
              "\n",
              "[211 rows x 7 columns]"
            ]
          },
          "execution_count": 80,
          "metadata": {},
          "output_type": "execute_result"
        }
      ],
      "source": [
        "# url = \"https://raw.githubusercontent.com/mwitiderrick/stockprice/master/NSE-TATAGLOBAL.csv\"\n",
        "# tataglobal_df = pd.read_csv(url)\n",
        "\n",
        "tataglobal_df = pd.read_csv(\"/content/MRF_NS.csv\")\n",
        "\n",
        "tataglobal_df"
      ]
    },
    {
      "cell_type": "code",
      "execution_count": null,
      "metadata": {
        "colab": {
          "base_uri": "https://localhost:8080/"
        },
        "id": "6Qc5Tkv8MuRP",
        "outputId": "ce00ae73-e02f-4e86-f5a4-8f8865305a67"
      },
      "outputs": [
        {
          "data": {
            "text/plain": [
              "(211, 7)"
            ]
          },
          "execution_count": 81,
          "metadata": {},
          "output_type": "execute_result"
        }
      ],
      "source": [
        "tataglobal_df.shape"
      ]
    },
    {
      "cell_type": "code",
      "execution_count": null,
      "metadata": {
        "colab": {
          "base_uri": "https://localhost:8080/"
        },
        "id": "y-qZq7pRM0Wn",
        "outputId": "a23106f0-c2a4-4aeb-f5e1-9a560e89e7fa"
      },
      "outputs": [
        {
          "data": {
            "text/plain": [
              "Date          object\n",
              "Open         float64\n",
              "High         float64\n",
              "Low          float64\n",
              "Close        float64\n",
              "Adj Close    float64\n",
              "Volume         int64\n",
              "dtype: object"
            ]
          },
          "execution_count": 82,
          "metadata": {},
          "output_type": "execute_result"
        }
      ],
      "source": [
        "tataglobal_df.dtypes"
      ]
    },
    {
      "cell_type": "code",
      "execution_count": null,
      "metadata": {
        "colab": {
          "base_uri": "https://localhost:8080/"
        },
        "id": "6ClolH0yM8c2",
        "outputId": "e7b8ab67-5901-4361-a548-abb15c600259"
      },
      "outputs": [
        {
          "name": "stdout",
          "output_type": "stream",
          "text": [
            "<class 'pandas.core.frame.DataFrame'>\n",
            "RangeIndex: 211 entries, 0 to 210\n",
            "Data columns (total 7 columns):\n",
            " #   Column     Non-Null Count  Dtype  \n",
            "---  ------     --------------  -----  \n",
            " 0   Date       211 non-null    object \n",
            " 1   Open       211 non-null    float64\n",
            " 2   High       211 non-null    float64\n",
            " 3   Low        211 non-null    float64\n",
            " 4   Close      211 non-null    float64\n",
            " 5   Adj Close  211 non-null    float64\n",
            " 6   Volume     211 non-null    int64  \n",
            "dtypes: float64(5), int64(1), object(1)\n",
            "memory usage: 11.7+ KB\n"
          ]
        }
      ],
      "source": [
        "tataglobal_df.info()"
      ]
    },
    {
      "cell_type": "code",
      "execution_count": null,
      "metadata": {
        "colab": {
          "base_uri": "https://localhost:8080/",
          "height": 300
        },
        "id": "dztDFoBtM2qp",
        "outputId": "5d48b7ff-2502-4623-a78a-a55bbc62324e"
      },
      "outputs": [
        {
          "data": {
            "text/html": [
              "\n",
              "  <div id=\"df-3cdcdee6-afbe-4a87-bc82-9870c5976d38\">\n",
              "    <div class=\"colab-df-container\">\n",
              "      <div>\n",
              "<style scoped>\n",
              "    .dataframe tbody tr th:only-of-type {\n",
              "        vertical-align: middle;\n",
              "    }\n",
              "\n",
              "    .dataframe tbody tr th {\n",
              "        vertical-align: top;\n",
              "    }\n",
              "\n",
              "    .dataframe thead th {\n",
              "        text-align: right;\n",
              "    }\n",
              "</style>\n",
              "<table border=\"1\" class=\"dataframe\">\n",
              "  <thead>\n",
              "    <tr style=\"text-align: right;\">\n",
              "      <th></th>\n",
              "      <th>Open</th>\n",
              "      <th>High</th>\n",
              "      <th>Low</th>\n",
              "      <th>Close</th>\n",
              "      <th>Adj Close</th>\n",
              "      <th>Volume</th>\n",
              "    </tr>\n",
              "  </thead>\n",
              "  <tbody>\n",
              "    <tr>\n",
              "      <th>count</th>\n",
              "      <td>211.000000</td>\n",
              "      <td>211.000000</td>\n",
              "      <td>211.000000</td>\n",
              "      <td>211.000000</td>\n",
              "      <td>211.000000</td>\n",
              "      <td>211.000000</td>\n",
              "    </tr>\n",
              "    <tr>\n",
              "      <th>mean</th>\n",
              "      <td>85745.135738</td>\n",
              "      <td>86604.497334</td>\n",
              "      <td>84821.391884</td>\n",
              "      <td>85707.099563</td>\n",
              "      <td>85687.452977</td>\n",
              "      <td>10401.104265</td>\n",
              "    </tr>\n",
              "    <tr>\n",
              "      <th>std</th>\n",
              "      <td>5355.167189</td>\n",
              "      <td>5303.385492</td>\n",
              "      <td>5179.004606</td>\n",
              "      <td>5214.095623</td>\n",
              "      <td>5246.173340</td>\n",
              "      <td>9121.491486</td>\n",
              "    </tr>\n",
              "    <tr>\n",
              "      <th>min</th>\n",
              "      <td>67600.000000</td>\n",
              "      <td>68230.000000</td>\n",
              "      <td>67350.000000</td>\n",
              "      <td>68040.601563</td>\n",
              "      <td>67913.750000</td>\n",
              "      <td>2396.000000</td>\n",
              "    </tr>\n",
              "    <tr>\n",
              "      <th>25%</th>\n",
              "      <td>83528.000000</td>\n",
              "      <td>84472.000000</td>\n",
              "      <td>82353.574219</td>\n",
              "      <td>83145.078125</td>\n",
              "      <td>83142.257812</td>\n",
              "      <td>5800.500000</td>\n",
              "    </tr>\n",
              "    <tr>\n",
              "      <th>50%</th>\n",
              "      <td>86610.750000</td>\n",
              "      <td>87388.000000</td>\n",
              "      <td>85685.148438</td>\n",
              "      <td>86363.148438</td>\n",
              "      <td>86363.148438</td>\n",
              "      <td>7893.000000</td>\n",
              "    </tr>\n",
              "    <tr>\n",
              "      <th>75%</th>\n",
              "      <td>89279.500000</td>\n",
              "      <td>89988.449219</td>\n",
              "      <td>88314.800782</td>\n",
              "      <td>89084.050782</td>\n",
              "      <td>89081.058594</td>\n",
              "      <td>11983.500000</td>\n",
              "    </tr>\n",
              "    <tr>\n",
              "      <th>max</th>\n",
              "      <td>94711.953125</td>\n",
              "      <td>96000.000000</td>\n",
              "      <td>94060.046875</td>\n",
              "      <td>94900.101563</td>\n",
              "      <td>94893.664063</td>\n",
              "      <td>80686.000000</td>\n",
              "    </tr>\n",
              "  </tbody>\n",
              "</table>\n",
              "</div>\n",
              "      <button class=\"colab-df-convert\" onclick=\"convertToInteractive('df-3cdcdee6-afbe-4a87-bc82-9870c5976d38')\"\n",
              "              title=\"Convert this dataframe to an interactive table.\"\n",
              "              style=\"display:none;\">\n",
              "        \n",
              "  <svg xmlns=\"http://www.w3.org/2000/svg\" height=\"24px\"viewBox=\"0 0 24 24\"\n",
              "       width=\"24px\">\n",
              "    <path d=\"M0 0h24v24H0V0z\" fill=\"none\"/>\n",
              "    <path d=\"M18.56 5.44l.94 2.06.94-2.06 2.06-.94-2.06-.94-.94-2.06-.94 2.06-2.06.94zm-11 1L8.5 8.5l.94-2.06 2.06-.94-2.06-.94L8.5 2.5l-.94 2.06-2.06.94zm10 10l.94 2.06.94-2.06 2.06-.94-2.06-.94-.94-2.06-.94 2.06-2.06.94z\"/><path d=\"M17.41 7.96l-1.37-1.37c-.4-.4-.92-.59-1.43-.59-.52 0-1.04.2-1.43.59L10.3 9.45l-7.72 7.72c-.78.78-.78 2.05 0 2.83L4 21.41c.39.39.9.59 1.41.59.51 0 1.02-.2 1.41-.59l7.78-7.78 2.81-2.81c.8-.78.8-2.07 0-2.86zM5.41 20L4 18.59l7.72-7.72 1.47 1.35L5.41 20z\"/>\n",
              "  </svg>\n",
              "      </button>\n",
              "      \n",
              "  <style>\n",
              "    .colab-df-container {\n",
              "      display:flex;\n",
              "      flex-wrap:wrap;\n",
              "      gap: 12px;\n",
              "    }\n",
              "\n",
              "    .colab-df-convert {\n",
              "      background-color: #E8F0FE;\n",
              "      border: none;\n",
              "      border-radius: 50%;\n",
              "      cursor: pointer;\n",
              "      display: none;\n",
              "      fill: #1967D2;\n",
              "      height: 32px;\n",
              "      padding: 0 0 0 0;\n",
              "      width: 32px;\n",
              "    }\n",
              "\n",
              "    .colab-df-convert:hover {\n",
              "      background-color: #E2EBFA;\n",
              "      box-shadow: 0px 1px 2px rgba(60, 64, 67, 0.3), 0px 1px 3px 1px rgba(60, 64, 67, 0.15);\n",
              "      fill: #174EA6;\n",
              "    }\n",
              "\n",
              "    [theme=dark] .colab-df-convert {\n",
              "      background-color: #3B4455;\n",
              "      fill: #D2E3FC;\n",
              "    }\n",
              "\n",
              "    [theme=dark] .colab-df-convert:hover {\n",
              "      background-color: #434B5C;\n",
              "      box-shadow: 0px 1px 3px 1px rgba(0, 0, 0, 0.15);\n",
              "      filter: drop-shadow(0px 1px 2px rgba(0, 0, 0, 0.3));\n",
              "      fill: #FFFFFF;\n",
              "    }\n",
              "  </style>\n",
              "\n",
              "      <script>\n",
              "        const buttonEl =\n",
              "          document.querySelector('#df-3cdcdee6-afbe-4a87-bc82-9870c5976d38 button.colab-df-convert');\n",
              "        buttonEl.style.display =\n",
              "          google.colab.kernel.accessAllowed ? 'block' : 'none';\n",
              "\n",
              "        async function convertToInteractive(key) {\n",
              "          const element = document.querySelector('#df-3cdcdee6-afbe-4a87-bc82-9870c5976d38');\n",
              "          const dataTable =\n",
              "            await google.colab.kernel.invokeFunction('convertToInteractive',\n",
              "                                                     [key], {});\n",
              "          if (!dataTable) return;\n",
              "\n",
              "          const docLinkHtml = 'Like what you see? Visit the ' +\n",
              "            '<a target=\"_blank\" href=https://colab.research.google.com/notebooks/data_table.ipynb>data table notebook</a>'\n",
              "            + ' to learn more about interactive tables.';\n",
              "          element.innerHTML = '';\n",
              "          dataTable['output_type'] = 'display_data';\n",
              "          await google.colab.output.renderOutput(dataTable, element);\n",
              "          const docLink = document.createElement('div');\n",
              "          docLink.innerHTML = docLinkHtml;\n",
              "          element.appendChild(docLink);\n",
              "        }\n",
              "      </script>\n",
              "    </div>\n",
              "  </div>\n",
              "  "
            ],
            "text/plain": [
              "               Open          High           Low         Close     Adj Close  \\\n",
              "count    211.000000    211.000000    211.000000    211.000000    211.000000   \n",
              "mean   85745.135738  86604.497334  84821.391884  85707.099563  85687.452977   \n",
              "std     5355.167189   5303.385492   5179.004606   5214.095623   5246.173340   \n",
              "min    67600.000000  68230.000000  67350.000000  68040.601563  67913.750000   \n",
              "25%    83528.000000  84472.000000  82353.574219  83145.078125  83142.257812   \n",
              "50%    86610.750000  87388.000000  85685.148438  86363.148438  86363.148438   \n",
              "75%    89279.500000  89988.449219  88314.800782  89084.050782  89081.058594   \n",
              "max    94711.953125  96000.000000  94060.046875  94900.101563  94893.664063   \n",
              "\n",
              "             Volume  \n",
              "count    211.000000  \n",
              "mean   10401.104265  \n",
              "std     9121.491486  \n",
              "min     2396.000000  \n",
              "25%     5800.500000  \n",
              "50%     7893.000000  \n",
              "75%    11983.500000  \n",
              "max    80686.000000  "
            ]
          },
          "execution_count": 84,
          "metadata": {},
          "output_type": "execute_result"
        }
      ],
      "source": [
        "tataglobal_df.describe()"
      ]
    },
    {
      "cell_type": "code",
      "execution_count": null,
      "metadata": {
        "colab": {
          "base_uri": "https://localhost:8080/"
        },
        "id": "-VCUu0mjNFCp",
        "outputId": "fc660f2b-949d-4c89-ef91-f58aab0208cf"
      },
      "outputs": [
        {
          "data": {
            "text/plain": [
              "Date         0\n",
              "Open         0\n",
              "High         0\n",
              "Low          0\n",
              "Close        0\n",
              "Adj Close    0\n",
              "Volume       0\n",
              "dtype: int64"
            ]
          },
          "execution_count": 85,
          "metadata": {},
          "output_type": "execute_result"
        }
      ],
      "source": [
        "tataglobal_df.isna().sum()"
      ]
    },
    {
      "cell_type": "code",
      "execution_count": null,
      "metadata": {
        "colab": {
          "base_uri": "https://localhost:8080/",
          "height": 206
        },
        "id": "wtXCTtYsNIfM",
        "outputId": "7b0d229c-8815-4de6-dc83-919232798e81"
      },
      "outputs": [
        {
          "data": {
            "text/html": [
              "\n",
              "  <div id=\"df-20dea140-cfcd-44fa-8f2e-d78798d62107\">\n",
              "    <div class=\"colab-df-container\">\n",
              "      <div>\n",
              "<style scoped>\n",
              "    .dataframe tbody tr th:only-of-type {\n",
              "        vertical-align: middle;\n",
              "    }\n",
              "\n",
              "    .dataframe tbody tr th {\n",
              "        vertical-align: top;\n",
              "    }\n",
              "\n",
              "    .dataframe thead th {\n",
              "        text-align: right;\n",
              "    }\n",
              "</style>\n",
              "<table border=\"1\" class=\"dataframe\">\n",
              "  <thead>\n",
              "    <tr style=\"text-align: right;\">\n",
              "      <th></th>\n",
              "      <th>Date</th>\n",
              "      <th>Open</th>\n",
              "      <th>High</th>\n",
              "      <th>Low</th>\n",
              "      <th>Close</th>\n",
              "      <th>Adj Close</th>\n",
              "      <th>Volume</th>\n",
              "    </tr>\n",
              "  </thead>\n",
              "  <tbody>\n",
              "    <tr>\n",
              "      <th>0</th>\n",
              "      <td>2022-06-22</td>\n",
              "      <td>67600.000000</td>\n",
              "      <td>68230.000000</td>\n",
              "      <td>67350.000000</td>\n",
              "      <td>68040.601563</td>\n",
              "      <td>67913.750000</td>\n",
              "      <td>4849</td>\n",
              "    </tr>\n",
              "    <tr>\n",
              "      <th>1</th>\n",
              "      <td>2022-06-23</td>\n",
              "      <td>68040.601563</td>\n",
              "      <td>69280.000000</td>\n",
              "      <td>68040.546875</td>\n",
              "      <td>69006.203125</td>\n",
              "      <td>68877.554688</td>\n",
              "      <td>7455</td>\n",
              "    </tr>\n",
              "    <tr>\n",
              "      <th>2</th>\n",
              "      <td>2022-06-24</td>\n",
              "      <td>68900.000000</td>\n",
              "      <td>70775.000000</td>\n",
              "      <td>68900.000000</td>\n",
              "      <td>70553.000000</td>\n",
              "      <td>70421.460938</td>\n",
              "      <td>12532</td>\n",
              "    </tr>\n",
              "    <tr>\n",
              "      <th>3</th>\n",
              "      <td>2022-06-27</td>\n",
              "      <td>71200.000000</td>\n",
              "      <td>71907.703125</td>\n",
              "      <td>70900.000000</td>\n",
              "      <td>71221.750000</td>\n",
              "      <td>71088.976563</td>\n",
              "      <td>8117</td>\n",
              "    </tr>\n",
              "    <tr>\n",
              "      <th>4</th>\n",
              "      <td>2022-06-28</td>\n",
              "      <td>71000.000000</td>\n",
              "      <td>72599.750000</td>\n",
              "      <td>70567.703125</td>\n",
              "      <td>72268.648438</td>\n",
              "      <td>72133.921875</td>\n",
              "      <td>10643</td>\n",
              "    </tr>\n",
              "  </tbody>\n",
              "</table>\n",
              "</div>\n",
              "      <button class=\"colab-df-convert\" onclick=\"convertToInteractive('df-20dea140-cfcd-44fa-8f2e-d78798d62107')\"\n",
              "              title=\"Convert this dataframe to an interactive table.\"\n",
              "              style=\"display:none;\">\n",
              "        \n",
              "  <svg xmlns=\"http://www.w3.org/2000/svg\" height=\"24px\"viewBox=\"0 0 24 24\"\n",
              "       width=\"24px\">\n",
              "    <path d=\"M0 0h24v24H0V0z\" fill=\"none\"/>\n",
              "    <path d=\"M18.56 5.44l.94 2.06.94-2.06 2.06-.94-2.06-.94-.94-2.06-.94 2.06-2.06.94zm-11 1L8.5 8.5l.94-2.06 2.06-.94-2.06-.94L8.5 2.5l-.94 2.06-2.06.94zm10 10l.94 2.06.94-2.06 2.06-.94-2.06-.94-.94-2.06-.94 2.06-2.06.94z\"/><path d=\"M17.41 7.96l-1.37-1.37c-.4-.4-.92-.59-1.43-.59-.52 0-1.04.2-1.43.59L10.3 9.45l-7.72 7.72c-.78.78-.78 2.05 0 2.83L4 21.41c.39.39.9.59 1.41.59.51 0 1.02-.2 1.41-.59l7.78-7.78 2.81-2.81c.8-.78.8-2.07 0-2.86zM5.41 20L4 18.59l7.72-7.72 1.47 1.35L5.41 20z\"/>\n",
              "  </svg>\n",
              "      </button>\n",
              "      \n",
              "  <style>\n",
              "    .colab-df-container {\n",
              "      display:flex;\n",
              "      flex-wrap:wrap;\n",
              "      gap: 12px;\n",
              "    }\n",
              "\n",
              "    .colab-df-convert {\n",
              "      background-color: #E8F0FE;\n",
              "      border: none;\n",
              "      border-radius: 50%;\n",
              "      cursor: pointer;\n",
              "      display: none;\n",
              "      fill: #1967D2;\n",
              "      height: 32px;\n",
              "      padding: 0 0 0 0;\n",
              "      width: 32px;\n",
              "    }\n",
              "\n",
              "    .colab-df-convert:hover {\n",
              "      background-color: #E2EBFA;\n",
              "      box-shadow: 0px 1px 2px rgba(60, 64, 67, 0.3), 0px 1px 3px 1px rgba(60, 64, 67, 0.15);\n",
              "      fill: #174EA6;\n",
              "    }\n",
              "\n",
              "    [theme=dark] .colab-df-convert {\n",
              "      background-color: #3B4455;\n",
              "      fill: #D2E3FC;\n",
              "    }\n",
              "\n",
              "    [theme=dark] .colab-df-convert:hover {\n",
              "      background-color: #434B5C;\n",
              "      box-shadow: 0px 1px 3px 1px rgba(0, 0, 0, 0.15);\n",
              "      filter: drop-shadow(0px 1px 2px rgba(0, 0, 0, 0.3));\n",
              "      fill: #FFFFFF;\n",
              "    }\n",
              "  </style>\n",
              "\n",
              "      <script>\n",
              "        const buttonEl =\n",
              "          document.querySelector('#df-20dea140-cfcd-44fa-8f2e-d78798d62107 button.colab-df-convert');\n",
              "        buttonEl.style.display =\n",
              "          google.colab.kernel.accessAllowed ? 'block' : 'none';\n",
              "\n",
              "        async function convertToInteractive(key) {\n",
              "          const element = document.querySelector('#df-20dea140-cfcd-44fa-8f2e-d78798d62107');\n",
              "          const dataTable =\n",
              "            await google.colab.kernel.invokeFunction('convertToInteractive',\n",
              "                                                     [key], {});\n",
              "          if (!dataTable) return;\n",
              "\n",
              "          const docLinkHtml = 'Like what you see? Visit the ' +\n",
              "            '<a target=\"_blank\" href=https://colab.research.google.com/notebooks/data_table.ipynb>data table notebook</a>'\n",
              "            + ' to learn more about interactive tables.';\n",
              "          element.innerHTML = '';\n",
              "          dataTable['output_type'] = 'display_data';\n",
              "          await google.colab.output.renderOutput(dataTable, element);\n",
              "          const docLink = document.createElement('div');\n",
              "          docLink.innerHTML = docLinkHtml;\n",
              "          element.appendChild(docLink);\n",
              "        }\n",
              "      </script>\n",
              "    </div>\n",
              "  </div>\n",
              "  "
            ],
            "text/plain": [
              "         Date          Open          High           Low         Close  \\\n",
              "0  2022-06-22  67600.000000  68230.000000  67350.000000  68040.601563   \n",
              "1  2022-06-23  68040.601563  69280.000000  68040.546875  69006.203125   \n",
              "2  2022-06-24  68900.000000  70775.000000  68900.000000  70553.000000   \n",
              "3  2022-06-27  71200.000000  71907.703125  70900.000000  71221.750000   \n",
              "4  2022-06-28  71000.000000  72599.750000  70567.703125  72268.648438   \n",
              "\n",
              "      Adj Close  Volume  \n",
              "0  67913.750000    4849  \n",
              "1  68877.554688    7455  \n",
              "2  70421.460938   12532  \n",
              "3  71088.976563    8117  \n",
              "4  72133.921875   10643  "
            ]
          },
          "execution_count": 86,
          "metadata": {},
          "output_type": "execute_result"
        }
      ],
      "source": [
        "tataglobal_df.head()"
      ]
    },
    {
      "cell_type": "code",
      "execution_count": null,
      "metadata": {
        "colab": {
          "base_uri": "https://localhost:8080/",
          "height": 430
        },
        "id": "UnkDxVCnNMCn",
        "outputId": "4813b3a4-a734-4c6c-bbd1-63f98dc362bf"
      },
      "outputs": [
        {
          "data": {
            "image/png": "[encoded data removed]",
            "text/plain": [
              "<Figure size 640x480 with 1 Axes>"
            ]
          },
          "metadata": {},
          "output_type": "display_data"
        }
      ],
      "source": [
        "tataglobal_df.Close.hist();"
      ]
    },
    {
      "cell_type": "code",
      "execution_count": null,
      "metadata": {
        "colab": {
          "base_uri": "https://localhost:8080/",
          "height": 206
        },
        "id": "BM4Ha7sCNPq2",
        "outputId": "4af0cfc6-6ffe-4aba-8fba-4499909f0ce4"
      },
      "outputs": [
        {
          "data": {
            "text/html": [
              "\n",
              "  <div id=\"df-7474c6bf-39c6-4cbc-9e6e-931a72e5ff92\">\n",
              "    <div class=\"colab-df-container\">\n",
              "      <div>\n",
              "<style scoped>\n",
              "    .dataframe tbody tr th:only-of-type {\n",
              "        vertical-align: middle;\n",
              "    }\n",
              "\n",
              "    .dataframe tbody tr th {\n",
              "        vertical-align: top;\n",
              "    }\n",
              "\n",
              "    .dataframe thead th {\n",
              "        text-align: right;\n",
              "    }\n",
              "</style>\n",
              "<table border=\"1\" class=\"dataframe\">\n",
              "  <thead>\n",
              "    <tr style=\"text-align: right;\">\n",
              "      <th></th>\n",
              "      <th>Date</th>\n",
              "      <th>Open</th>\n",
              "      <th>High</th>\n",
              "      <th>Low</th>\n",
              "      <th>Close</th>\n",
              "      <th>Adj Close</th>\n",
              "      <th>Volume</th>\n",
              "    </tr>\n",
              "  </thead>\n",
              "  <tbody>\n",
              "    <tr>\n",
              "      <th>0</th>\n",
              "      <td>2022-06-22</td>\n",
              "      <td>67600.000000</td>\n",
              "      <td>68230.000000</td>\n",
              "      <td>67350.000000</td>\n",
              "      <td>68040.601563</td>\n",
              "      <td>67913.750000</td>\n",
              "      <td>4849</td>\n",
              "    </tr>\n",
              "    <tr>\n",
              "      <th>1</th>\n",
              "      <td>2022-06-23</td>\n",
              "      <td>68040.601563</td>\n",
              "      <td>69280.000000</td>\n",
              "      <td>68040.546875</td>\n",
              "      <td>69006.203125</td>\n",
              "      <td>68877.554688</td>\n",
              "      <td>7455</td>\n",
              "    </tr>\n",
              "    <tr>\n",
              "      <th>2</th>\n",
              "      <td>2022-06-24</td>\n",
              "      <td>68900.000000</td>\n",
              "      <td>70775.000000</td>\n",
              "      <td>68900.000000</td>\n",
              "      <td>70553.000000</td>\n",
              "      <td>70421.460938</td>\n",
              "      <td>12532</td>\n",
              "    </tr>\n",
              "    <tr>\n",
              "      <th>3</th>\n",
              "      <td>2022-06-27</td>\n",
              "      <td>71200.000000</td>\n",
              "      <td>71907.703125</td>\n",
              "      <td>70900.000000</td>\n",
              "      <td>71221.750000</td>\n",
              "      <td>71088.976563</td>\n",
              "      <td>8117</td>\n",
              "    </tr>\n",
              "    <tr>\n",
              "      <th>4</th>\n",
              "      <td>2022-06-28</td>\n",
              "      <td>71000.000000</td>\n",
              "      <td>72599.750000</td>\n",
              "      <td>70567.703125</td>\n",
              "      <td>72268.648438</td>\n",
              "      <td>72133.921875</td>\n",
              "      <td>10643</td>\n",
              "    </tr>\n",
              "  </tbody>\n",
              "</table>\n",
              "</div>\n",
              "      <button class=\"colab-df-convert\" onclick=\"convertToInteractive('df-7474c6bf-39c6-4cbc-9e6e-931a72e5ff92')\"\n",
              "              title=\"Convert this dataframe to an interactive table.\"\n",
              "              style=\"display:none;\">\n",
              "        \n",
              "  <svg xmlns=\"http://www.w3.org/2000/svg\" height=\"24px\"viewBox=\"0 0 24 24\"\n",
              "       width=\"24px\">\n",
              "    <path d=\"M0 0h24v24H0V0z\" fill=\"none\"/>\n",
              "    <path d=\"M18.56 5.44l.94 2.06.94-2.06 2.06-.94-2.06-.94-.94-2.06-.94 2.06-2.06.94zm-11 1L8.5 8.5l.94-2.06 2.06-.94-2.06-.94L8.5 2.5l-.94 2.06-2.06.94zm10 10l.94 2.06.94-2.06 2.06-.94-2.06-.94-.94-2.06-.94 2.06-2.06.94z\"/><path d=\"M17.41 7.96l-1.37-1.37c-.4-.4-.92-.59-1.43-.59-.52 0-1.04.2-1.43.59L10.3 9.45l-7.72 7.72c-.78.78-.78 2.05 0 2.83L4 21.41c.39.39.9.59 1.41.59.51 0 1.02-.2 1.41-.59l7.78-7.78 2.81-2.81c.8-.78.8-2.07 0-2.86zM5.41 20L4 18.59l7.72-7.72 1.47 1.35L5.41 20z\"/>\n",
              "  </svg>\n",
              "      </button>\n",
              "      \n",
              "  <style>\n",
              "    .colab-df-container {\n",
              "      display:flex;\n",
              "      flex-wrap:wrap;\n",
              "      gap: 12px;\n",
              "    }\n",
              "\n",
              "    .colab-df-convert {\n",
              "      background-color: #E8F0FE;\n",
              "      border: none;\n",
              "      border-radius: 50%;\n",
              "      cursor: pointer;\n",
              "      display: none;\n",
              "      fill: #1967D2;\n",
              "      height: 32px;\n",
              "      padding: 0 0 0 0;\n",
              "      width: 32px;\n",
              "    }\n",
              "\n",
              "    .colab-df-convert:hover {\n",
              "      background-color: #E2EBFA;\n",
              "      box-shadow: 0px 1px 2px rgba(60, 64, 67, 0.3), 0px 1px 3px 1px rgba(60, 64, 67, 0.15);\n",
              "      fill: #174EA6;\n",
              "    }\n",
              "\n",
              "    [theme=dark] .colab-df-convert {\n",
              "      background-color: #3B4455;\n",
              "      fill: #D2E3FC;\n",
              "    }\n",
              "\n",
              "    [theme=dark] .colab-df-convert:hover {\n",
              "      background-color: #434B5C;\n",
              "      box-shadow: 0px 1px 3px 1px rgba(0, 0, 0, 0.15);\n",
              "      filter: drop-shadow(0px 1px 2px rgba(0, 0, 0, 0.3));\n",
              "      fill: #FFFFFF;\n",
              "    }\n",
              "  </style>\n",
              "\n",
              "      <script>\n",
              "        const buttonEl =\n",
              "          document.querySelector('#df-7474c6bf-39c6-4cbc-9e6e-931a72e5ff92 button.colab-df-convert');\n",
              "        buttonEl.style.display =\n",
              "          google.colab.kernel.accessAllowed ? 'block' : 'none';\n",
              "\n",
              "        async function convertToInteractive(key) {\n",
              "          const element = document.querySelector('#df-7474c6bf-39c6-4cbc-9e6e-931a72e5ff92');\n",
              "          const dataTable =\n",
              "            await google.colab.kernel.invokeFunction('convertToInteractive',\n",
              "                                                     [key], {});\n",
              "          if (!dataTable) return;\n",
              "\n",
              "          const docLinkHtml = 'Like what you see? Visit the ' +\n",
              "            '<a target=\"_blank\" href=https://colab.research.google.com/notebooks/data_table.ipynb>data table notebook</a>'\n",
              "            + ' to learn more about interactive tables.';\n",
              "          element.innerHTML = '';\n",
              "          dataTable['output_type'] = 'display_data';\n",
              "          await google.colab.output.renderOutput(dataTable, element);\n",
              "          const docLink = document.createElement('div');\n",
              "          docLink.innerHTML = docLinkHtml;\n",
              "          element.appendChild(docLink);\n",
              "        }\n",
              "      </script>\n",
              "    </div>\n",
              "  </div>\n",
              "  "
            ],
            "text/plain": [
              "        Date          Open          High           Low         Close  \\\n",
              "0 2022-06-22  67600.000000  68230.000000  67350.000000  68040.601563   \n",
              "1 2022-06-23  68040.601563  69280.000000  68040.546875  69006.203125   \n",
              "2 2022-06-24  68900.000000  70775.000000  68900.000000  70553.000000   \n",
              "3 2022-06-27  71200.000000  71907.703125  70900.000000  71221.750000   \n",
              "4 2022-06-28  71000.000000  72599.750000  70567.703125  72268.648438   \n",
              "\n",
              "      Adj Close  Volume  \n",
              "0  67913.750000    4849  \n",
              "1  68877.554688    7455  \n",
              "2  70421.460938   12532  \n",
              "3  71088.976563    8117  \n",
              "4  72133.921875   10643  "
            ]
          },
          "execution_count": 90,
          "metadata": {},
          "output_type": "execute_result"
        }
      ],
      "source": [
        "# Imoporting data again but this time parse dates\n",
        "\n",
        "df = pd.read_csv(\"/content/MRF_NS.csv\",\n",
        "                 parse_dates=[\"Date\"])\n",
        "df.head()"
      ]
    },
    {
      "cell_type": "code",
      "execution_count": null,
      "metadata": {
        "colab": {
          "base_uri": "https://localhost:8080/"
        },
        "id": "tO_WRciMNTfc",
        "outputId": "44dc6b10-bf70-4703-b38c-88df46ba4db0"
      },
      "outputs": [
        {
          "data": {
            "text/plain": [
              "dtype('<M8[ns]')"
            ]
          },
          "execution_count": 91,
          "metadata": {},
          "output_type": "execute_result"
        }
      ],
      "source": [
        "df.Date.dtype"
      ]
    },
    {
      "cell_type": "code",
      "execution_count": null,
      "metadata": {
        "colab": {
          "base_uri": "https://localhost:8080/"
        },
        "id": "ygYUGPptNV2z",
        "outputId": "889be287-0760-44fd-dbc3-a09822eabc5f"
      },
      "outputs": [
        {
          "data": {
            "text/plain": [
              "dtype('O')"
            ]
          },
          "execution_count": 92,
          "metadata": {},
          "output_type": "execute_result"
        }
      ],
      "source": [
        "tataglobal_df.Date.dtype"
      ]
    },
    {
      "cell_type": "code",
      "execution_count": null,
      "metadata": {
        "colab": {
          "base_uri": "https://localhost:8080/"
        },
        "id": "6P7VKBdmNYkQ",
        "outputId": "d3cdaffd-5eed-45a0-cfb3-f9d97d10a0c0"
      },
      "outputs": [
        {
          "data": {
            "text/plain": [
              "0    2022-06-22\n",
              "1    2022-06-23\n",
              "2    2022-06-24\n",
              "3    2022-06-27\n",
              "4    2022-06-28\n",
              "Name: Date, dtype: object"
            ]
          },
          "execution_count": 93,
          "metadata": {},
          "output_type": "execute_result"
        }
      ],
      "source": [
        "\n",
        "tataglobal_df.Date.head()"
      ]
    },
    {
      "cell_type": "code",
      "execution_count": null,
      "metadata": {
        "colab": {
          "base_uri": "https://localhost:8080/"
        },
        "id": "RG23HGD4Nbyi",
        "outputId": "5b97cd0d-d3e0-4e3e-f348-2b2b1047c75c"
      },
      "outputs": [
        {
          "data": {
            "text/plain": [
              "0   2022-06-22\n",
              "1   2022-06-23\n",
              "2   2022-06-24\n",
              "3   2022-06-27\n",
              "4   2022-06-28\n",
              "Name: Date, dtype: datetime64[ns]"
            ]
          },
          "execution_count": 94,
          "metadata": {},
          "output_type": "execute_result"
        }
      ],
      "source": [
        "df.Date.head()"
      ]
    },
    {
      "cell_type": "code",
      "execution_count": null,
      "metadata": {
        "colab": {
          "base_uri": "https://localhost:8080/"
        },
        "id": "gJUhdpR9NhtO",
        "outputId": "220b3b32-eaea-40ff-9bee-5cdb5f9530e1"
      },
      "outputs": [
        {
          "data": {
            "text/plain": [
              "Date         0\n",
              "Open         0\n",
              "High         0\n",
              "Low          0\n",
              "Close        0\n",
              "Adj Close    0\n",
              "Volume       0\n",
              "dtype: int64"
            ]
          },
          "execution_count": 95,
          "metadata": {},
          "output_type": "execute_result"
        }
      ],
      "source": [
        "df.isna().sum()"
      ]
    },
    {
      "cell_type": "code",
      "execution_count": null,
      "metadata": {
        "colab": {
          "base_uri": "https://localhost:8080/",
          "height": 206
        },
        "id": "_D7B4B2ONknH",
        "outputId": "79b7d024-9838-4da0-c7f9-480b92dd0024"
      },
      "outputs": [
        {
          "data": {
            "text/html": [
              "\n",
              "  <div id=\"df-8151fe72-8e7f-4f68-a243-e6e264afb72b\">\n",
              "    <div class=\"colab-df-container\">\n",
              "      <div>\n",
              "<style scoped>\n",
              "    .dataframe tbody tr th:only-of-type {\n",
              "        vertical-align: middle;\n",
              "    }\n",
              "\n",
              "    .dataframe tbody tr th {\n",
              "        vertical-align: top;\n",
              "    }\n",
              "\n",
              "    .dataframe thead th {\n",
              "        text-align: right;\n",
              "    }\n",
              "</style>\n",
              "<table border=\"1\" class=\"dataframe\">\n",
              "  <thead>\n",
              "    <tr style=\"text-align: right;\">\n",
              "      <th></th>\n",
              "      <th>Date</th>\n",
              "      <th>Open</th>\n",
              "      <th>High</th>\n",
              "      <th>Low</th>\n",
              "      <th>Close</th>\n",
              "      <th>Adj Close</th>\n",
              "      <th>Volume</th>\n",
              "    </tr>\n",
              "  </thead>\n",
              "  <tbody>\n",
              "    <tr>\n",
              "      <th>0</th>\n",
              "      <td>2022-06-22</td>\n",
              "      <td>67600.000000</td>\n",
              "      <td>68230.000000</td>\n",
              "      <td>67350.000000</td>\n",
              "      <td>68040.601563</td>\n",
              "      <td>67913.750000</td>\n",
              "      <td>4849</td>\n",
              "    </tr>\n",
              "    <tr>\n",
              "      <th>1</th>\n",
              "      <td>2022-06-23</td>\n",
              "      <td>68040.601563</td>\n",
              "      <td>69280.000000</td>\n",
              "      <td>68040.546875</td>\n",
              "      <td>69006.203125</td>\n",
              "      <td>68877.554688</td>\n",
              "      <td>7455</td>\n",
              "    </tr>\n",
              "    <tr>\n",
              "      <th>2</th>\n",
              "      <td>2022-06-24</td>\n",
              "      <td>68900.000000</td>\n",
              "      <td>70775.000000</td>\n",
              "      <td>68900.000000</td>\n",
              "      <td>70553.000000</td>\n",
              "      <td>70421.460938</td>\n",
              "      <td>12532</td>\n",
              "    </tr>\n",
              "    <tr>\n",
              "      <th>3</th>\n",
              "      <td>2022-06-27</td>\n",
              "      <td>71200.000000</td>\n",
              "      <td>71907.703125</td>\n",
              "      <td>70900.000000</td>\n",
              "      <td>71221.750000</td>\n",
              "      <td>71088.976563</td>\n",
              "      <td>8117</td>\n",
              "    </tr>\n",
              "    <tr>\n",
              "      <th>4</th>\n",
              "      <td>2022-06-28</td>\n",
              "      <td>71000.000000</td>\n",
              "      <td>72599.750000</td>\n",
              "      <td>70567.703125</td>\n",
              "      <td>72268.648438</td>\n",
              "      <td>72133.921875</td>\n",
              "      <td>10643</td>\n",
              "    </tr>\n",
              "  </tbody>\n",
              "</table>\n",
              "</div>\n",
              "      <button class=\"colab-df-convert\" onclick=\"convertToInteractive('df-8151fe72-8e7f-4f68-a243-e6e264afb72b')\"\n",
              "              title=\"Convert this dataframe to an interactive table.\"\n",
              "              style=\"display:none;\">\n",
              "        \n",
              "  <svg xmlns=\"http://www.w3.org/2000/svg\" height=\"24px\"viewBox=\"0 0 24 24\"\n",
              "       width=\"24px\">\n",
              "    <path d=\"M0 0h24v24H0V0z\" fill=\"none\"/>\n",
              "    <path d=\"M18.56 5.44l.94 2.06.94-2.06 2.06-.94-2.06-.94-.94-2.06-.94 2.06-2.06.94zm-11 1L8.5 8.5l.94-2.06 2.06-.94-2.06-.94L8.5 2.5l-.94 2.06-2.06.94zm10 10l.94 2.06.94-2.06 2.06-.94-2.06-.94-.94-2.06-.94 2.06-2.06.94z\"/><path d=\"M17.41 7.96l-1.37-1.37c-.4-.4-.92-.59-1.43-.59-.52 0-1.04.2-1.43.59L10.3 9.45l-7.72 7.72c-.78.78-.78 2.05 0 2.83L4 21.41c.39.39.9.59 1.41.59.51 0 1.02-.2 1.41-.59l7.78-7.78 2.81-2.81c.8-.78.8-2.07 0-2.86zM5.41 20L4 18.59l7.72-7.72 1.47 1.35L5.41 20z\"/>\n",
              "  </svg>\n",
              "      </button>\n",
              "      \n",
              "  <style>\n",
              "    .colab-df-container {\n",
              "      display:flex;\n",
              "      flex-wrap:wrap;\n",
              "      gap: 12px;\n",
              "    }\n",
              "\n",
              "    .colab-df-convert {\n",
              "      background-color: #E8F0FE;\n",
              "      border: none;\n",
              "      border-radius: 50%;\n",
              "      cursor: pointer;\n",
              "      display: none;\n",
              "      fill: #1967D2;\n",
              "      height: 32px;\n",
              "      padding: 0 0 0 0;\n",
              "      width: 32px;\n",
              "    }\n",
              "\n",
              "    .colab-df-convert:hover {\n",
              "      background-color: #E2EBFA;\n",
              "      box-shadow: 0px 1px 2px rgba(60, 64, 67, 0.3), 0px 1px 3px 1px rgba(60, 64, 67, 0.15);\n",
              "      fill: #174EA6;\n",
              "    }\n",
              "\n",
              "    [theme=dark] .colab-df-convert {\n",
              "      background-color: #3B4455;\n",
              "      fill: #D2E3FC;\n",
              "    }\n",
              "\n",
              "    [theme=dark] .colab-df-convert:hover {\n",
              "      background-color: #434B5C;\n",
              "      box-shadow: 0px 1px 3px 1px rgba(0, 0, 0, 0.15);\n",
              "      filter: drop-shadow(0px 1px 2px rgba(0, 0, 0, 0.3));\n",
              "      fill: #FFFFFF;\n",
              "    }\n",
              "  </style>\n",
              "\n",
              "      <script>\n",
              "        const buttonEl =\n",
              "          document.querySelector('#df-8151fe72-8e7f-4f68-a243-e6e264afb72b button.colab-df-convert');\n",
              "        buttonEl.style.display =\n",
              "          google.colab.kernel.accessAllowed ? 'block' : 'none';\n",
              "\n",
              "        async function convertToInteractive(key) {\n",
              "          const element = document.querySelector('#df-8151fe72-8e7f-4f68-a243-e6e264afb72b');\n",
              "          const dataTable =\n",
              "            await google.colab.kernel.invokeFunction('convertToInteractive',\n",
              "                                                     [key], {});\n",
              "          if (!dataTable) return;\n",
              "\n",
              "          const docLinkHtml = 'Like what you see? Visit the ' +\n",
              "            '<a target=\"_blank\" href=https://colab.research.google.com/notebooks/data_table.ipynb>data table notebook</a>'\n",
              "            + ' to learn more about interactive tables.';\n",
              "          element.innerHTML = '';\n",
              "          dataTable['output_type'] = 'display_data';\n",
              "          await google.colab.output.renderOutput(dataTable, element);\n",
              "          const docLink = document.createElement('div');\n",
              "          docLink.innerHTML = docLinkHtml;\n",
              "          element.appendChild(docLink);\n",
              "        }\n",
              "      </script>\n",
              "    </div>\n",
              "  </div>\n",
              "  "
            ],
            "text/plain": [
              "        Date          Open          High           Low         Close  \\\n",
              "0 2022-06-22  67600.000000  68230.000000  67350.000000  68040.601563   \n",
              "1 2022-06-23  68040.601563  69280.000000  68040.546875  69006.203125   \n",
              "2 2022-06-24  68900.000000  70775.000000  68900.000000  70553.000000   \n",
              "3 2022-06-27  71200.000000  71907.703125  70900.000000  71221.750000   \n",
              "4 2022-06-28  71000.000000  72599.750000  70567.703125  72268.648438   \n",
              "\n",
              "      Adj Close  Volume  \n",
              "0  67913.750000    4849  \n",
              "1  68877.554688    7455  \n",
              "2  70421.460938   12532  \n",
              "3  71088.976563    8117  \n",
              "4  72133.921875   10643  "
            ]
          },
          "execution_count": 96,
          "metadata": {},
          "output_type": "execute_result"
        }
      ],
      "source": [
        "df.head()"
      ]
    },
    {
      "cell_type": "code",
      "execution_count": null,
      "metadata": {
        "colab": {
          "base_uri": "https://localhost:8080/",
          "height": 206
        },
        "id": "YQ6V26OJNm1O",
        "outputId": "959f9226-05b7-4a0e-dd30-7bb853d46c76"
      },
      "outputs": [
        {
          "data": {
            "text/html": [
              "\n",
              "  <div id=\"df-733bec5a-4284-4fbe-a78b-c5035267109f\">\n",
              "    <div class=\"colab-df-container\">\n",
              "      <div>\n",
              "<style scoped>\n",
              "    .dataframe tbody tr th:only-of-type {\n",
              "        vertical-align: middle;\n",
              "    }\n",
              "\n",
              "    .dataframe tbody tr th {\n",
              "        vertical-align: top;\n",
              "    }\n",
              "\n",
              "    .dataframe thead th {\n",
              "        text-align: right;\n",
              "    }\n",
              "</style>\n",
              "<table border=\"1\" class=\"dataframe\">\n",
              "  <thead>\n",
              "    <tr style=\"text-align: right;\">\n",
              "      <th></th>\n",
              "      <th>Date</th>\n",
              "      <th>Open</th>\n",
              "      <th>High</th>\n",
              "      <th>Low</th>\n",
              "      <th>Close</th>\n",
              "      <th>Adj Close</th>\n",
              "      <th>Volume</th>\n",
              "    </tr>\n",
              "  </thead>\n",
              "  <tbody>\n",
              "    <tr>\n",
              "      <th>206</th>\n",
              "      <td>2023-04-24</td>\n",
              "      <td>86945.000000</td>\n",
              "      <td>87200.000000</td>\n",
              "      <td>86300.0</td>\n",
              "      <td>86896.148438</td>\n",
              "      <td>86896.148438</td>\n",
              "      <td>3160</td>\n",
              "    </tr>\n",
              "    <tr>\n",
              "      <th>207</th>\n",
              "      <td>2023-04-25</td>\n",
              "      <td>87100.000000</td>\n",
              "      <td>87399.953125</td>\n",
              "      <td>86086.0</td>\n",
              "      <td>86561.453125</td>\n",
              "      <td>86561.453125</td>\n",
              "      <td>3991</td>\n",
              "    </tr>\n",
              "    <tr>\n",
              "      <th>208</th>\n",
              "      <td>2023-04-26</td>\n",
              "      <td>86550.000000</td>\n",
              "      <td>87332.898438</td>\n",
              "      <td>86400.0</td>\n",
              "      <td>87231.203125</td>\n",
              "      <td>87231.203125</td>\n",
              "      <td>4413</td>\n",
              "    </tr>\n",
              "    <tr>\n",
              "      <th>209</th>\n",
              "      <td>2023-04-27</td>\n",
              "      <td>87497.000000</td>\n",
              "      <td>87600.000000</td>\n",
              "      <td>86810.0</td>\n",
              "      <td>87455.898438</td>\n",
              "      <td>87455.898438</td>\n",
              "      <td>3368</td>\n",
              "    </tr>\n",
              "    <tr>\n",
              "      <th>210</th>\n",
              "      <td>2023-04-28</td>\n",
              "      <td>87437.351563</td>\n",
              "      <td>89300.000000</td>\n",
              "      <td>87376.0</td>\n",
              "      <td>89006.796875</td>\n",
              "      <td>89006.796875</td>\n",
              "      <td>7620</td>\n",
              "    </tr>\n",
              "  </tbody>\n",
              "</table>\n",
              "</div>\n",
              "      <button class=\"colab-df-convert\" onclick=\"convertToInteractive('df-733bec5a-4284-4fbe-a78b-c5035267109f')\"\n",
              "              title=\"Convert this dataframe to an interactive table.\"\n",
              "              style=\"display:none;\">\n",
              "        \n",
              "  <svg xmlns=\"http://www.w3.org/2000/svg\" height=\"24px\"viewBox=\"0 0 24 24\"\n",
              "       width=\"24px\">\n",
              "    <path d=\"M0 0h24v24H0V0z\" fill=\"none\"/>\n",
              "    <path d=\"M18.56 5.44l.94 2.06.94-2.06 2.06-.94-2.06-.94-.94-2.06-.94 2.06-2.06.94zm-11 1L8.5 8.5l.94-2.06 2.06-.94-2.06-.94L8.5 2.5l-.94 2.06-2.06.94zm10 10l.94 2.06.94-2.06 2.06-.94-2.06-.94-.94-2.06-.94 2.06-2.06.94z\"/><path d=\"M17.41 7.96l-1.37-1.37c-.4-.4-.92-.59-1.43-.59-.52 0-1.04.2-1.43.59L10.3 9.45l-7.72 7.72c-.78.78-.78 2.05 0 2.83L4 21.41c.39.39.9.59 1.41.59.51 0 1.02-.2 1.41-.59l7.78-7.78 2.81-2.81c.8-.78.8-2.07 0-2.86zM5.41 20L4 18.59l7.72-7.72 1.47 1.35L5.41 20z\"/>\n",
              "  </svg>\n",
              "      </button>\n",
              "      \n",
              "  <style>\n",
              "    .colab-df-container {\n",
              "      display:flex;\n",
              "      flex-wrap:wrap;\n",
              "      gap: 12px;\n",
              "    }\n",
              "\n",
              "    .colab-df-convert {\n",
              "      background-color: #E8F0FE;\n",
              "      border: none;\n",
              "      border-radius: 50%;\n",
              "      cursor: pointer;\n",
              "      display: none;\n",
              "      fill: #1967D2;\n",
              "      height: 32px;\n",
              "      padding: 0 0 0 0;\n",
              "      width: 32px;\n",
              "    }\n",
              "\n",
              "    .colab-df-convert:hover {\n",
              "      background-color: #E2EBFA;\n",
              "      box-shadow: 0px 1px 2px rgba(60, 64, 67, 0.3), 0px 1px 3px 1px rgba(60, 64, 67, 0.15);\n",
              "      fill: #174EA6;\n",
              "    }\n",
              "\n",
              "    [theme=dark] .colab-df-convert {\n",
              "      background-color: #3B4455;\n",
              "      fill: #D2E3FC;\n",
              "    }\n",
              "\n",
              "    [theme=dark] .colab-df-convert:hover {\n",
              "      background-color: #434B5C;\n",
              "      box-shadow: 0px 1px 3px 1px rgba(0, 0, 0, 0.15);\n",
              "      filter: drop-shadow(0px 1px 2px rgba(0, 0, 0, 0.3));\n",
              "      fill: #FFFFFF;\n",
              "    }\n",
              "  </style>\n",
              "\n",
              "      <script>\n",
              "        const buttonEl =\n",
              "          document.querySelector('#df-733bec5a-4284-4fbe-a78b-c5035267109f button.colab-df-convert');\n",
              "        buttonEl.style.display =\n",
              "          google.colab.kernel.accessAllowed ? 'block' : 'none';\n",
              "\n",
              "        async function convertToInteractive(key) {\n",
              "          const element = document.querySelector('#df-733bec5a-4284-4fbe-a78b-c5035267109f');\n",
              "          const dataTable =\n",
              "            await google.colab.kernel.invokeFunction('convertToInteractive',\n",
              "                                                     [key], {});\n",
              "          if (!dataTable) return;\n",
              "\n",
              "          const docLinkHtml = 'Like what you see? Visit the ' +\n",
              "            '<a target=\"_blank\" href=https://colab.research.google.com/notebooks/data_table.ipynb>data table notebook</a>'\n",
              "            + ' to learn more about interactive tables.';\n",
              "          element.innerHTML = '';\n",
              "          dataTable['output_type'] = 'display_data';\n",
              "          await google.colab.output.renderOutput(dataTable, element);\n",
              "          const docLink = document.createElement('div');\n",
              "          docLink.innerHTML = docLinkHtml;\n",
              "          element.appendChild(docLink);\n",
              "        }\n",
              "      </script>\n",
              "    </div>\n",
              "  </div>\n",
              "  "
            ],
            "text/plain": [
              "          Date          Open          High      Low         Close  \\\n",
              "206 2023-04-24  86945.000000  87200.000000  86300.0  86896.148438   \n",
              "207 2023-04-25  87100.000000  87399.953125  86086.0  86561.453125   \n",
              "208 2023-04-26  86550.000000  87332.898438  86400.0  87231.203125   \n",
              "209 2023-04-27  87497.000000  87600.000000  86810.0  87455.898438   \n",
              "210 2023-04-28  87437.351563  89300.000000  87376.0  89006.796875   \n",
              "\n",
              "        Adj Close  Volume  \n",
              "206  86896.148438    3160  \n",
              "207  86561.453125    3991  \n",
              "208  87231.203125    4413  \n",
              "209  87455.898438    3368  \n",
              "210  89006.796875    7620  "
            ]
          },
          "execution_count": 97,
          "metadata": {},
          "output_type": "execute_result"
        }
      ],
      "source": [
        "df.tail()"
      ]
    },
    {
      "cell_type": "code",
      "execution_count": null,
      "metadata": {
        "colab": {
          "base_uri": "https://localhost:8080/"
        },
        "id": "y_J0Q0PKNo43",
        "outputId": "dc931fd3-db3f-44c5-d731-e52116e014e1"
      },
      "outputs": [
        {
          "data": {
            "text/plain": [
              "0   2022-06-22\n",
              "1   2022-06-23\n",
              "2   2022-06-24\n",
              "3   2022-06-27\n",
              "4   2022-06-28\n",
              "Name: Date, dtype: datetime64[ns]"
            ]
          },
          "execution_count": 98,
          "metadata": {},
          "output_type": "execute_result"
        }
      ],
      "source": [
        "# Sort Dataframe in date order\n",
        "\n",
        "df.sort_values(by=[\"Date\"], inplace=True, ascending=True)\n",
        "df.Date.head()"
      ]
    },
    {
      "cell_type": "code",
      "execution_count": null,
      "metadata": {
        "colab": {
          "base_uri": "https://localhost:8080/",
          "height": 430
        },
        "id": "MWTr6f92NtT9",
        "outputId": "8ffb9462-8e15-45cd-dc0b-861e584b11de"
      },
      "outputs": [
        {
          "data": {
            "image/png": "[encoded data removed]",
            "text/plain": [
              "<Figure size 640x480 with 1 Axes>"
            ]
          },
          "metadata": {},
          "output_type": "display_data"
        }
      ],
      "source": [
        "# Let's visualize closing price vs Date...\n",
        "\n",
        "\n",
        "fig, ax = plt.subplots()\n",
        "ax.scatter(df.Date, df.Close);"
      ]
    },
    {
      "cell_type": "code",
      "execution_count": null,
      "metadata": {
        "colab": {
          "base_uri": "https://localhost:8080/",
          "height": 423
        },
        "id": "qxbKmFPTNwkv",
        "outputId": "cce18c38-b176-4386-f300-4e33042ff2b7"
      },
      "outputs": [
        {
          "data": {
            "text/html": [
              "\n",
              "  <div id=\"df-e22a4b5f-3fe3-427f-975b-e63a66573295\">\n",
              "    <div class=\"colab-df-container\">\n",
              "      <div>\n",
              "<style scoped>\n",
              "    .dataframe tbody tr th:only-of-type {\n",
              "        vertical-align: middle;\n",
              "    }\n",
              "\n",
              "    .dataframe tbody tr th {\n",
              "        vertical-align: top;\n",
              "    }\n",
              "\n",
              "    .dataframe thead th {\n",
              "        text-align: right;\n",
              "    }\n",
              "</style>\n",
              "<table border=\"1\" class=\"dataframe\">\n",
              "  <thead>\n",
              "    <tr style=\"text-align: right;\">\n",
              "      <th></th>\n",
              "      <th>Date</th>\n",
              "      <th>Open</th>\n",
              "      <th>High</th>\n",
              "      <th>Low</th>\n",
              "      <th>Close</th>\n",
              "      <th>Adj Close</th>\n",
              "      <th>Volume</th>\n",
              "    </tr>\n",
              "  </thead>\n",
              "  <tbody>\n",
              "    <tr>\n",
              "      <th>0</th>\n",
              "      <td>2022-06-22</td>\n",
              "      <td>67600.000000</td>\n",
              "      <td>68230.000000</td>\n",
              "      <td>67350.000000</td>\n",
              "      <td>68040.601563</td>\n",
              "      <td>67913.750000</td>\n",
              "      <td>4849</td>\n",
              "    </tr>\n",
              "    <tr>\n",
              "      <th>1</th>\n",
              "      <td>2022-06-23</td>\n",
              "      <td>68040.601563</td>\n",
              "      <td>69280.000000</td>\n",
              "      <td>68040.546875</td>\n",
              "      <td>69006.203125</td>\n",
              "      <td>68877.554688</td>\n",
              "      <td>7455</td>\n",
              "    </tr>\n",
              "    <tr>\n",
              "      <th>2</th>\n",
              "      <td>2022-06-24</td>\n",
              "      <td>68900.000000</td>\n",
              "      <td>70775.000000</td>\n",
              "      <td>68900.000000</td>\n",
              "      <td>70553.000000</td>\n",
              "      <td>70421.460938</td>\n",
              "      <td>12532</td>\n",
              "    </tr>\n",
              "    <tr>\n",
              "      <th>3</th>\n",
              "      <td>2022-06-27</td>\n",
              "      <td>71200.000000</td>\n",
              "      <td>71907.703125</td>\n",
              "      <td>70900.000000</td>\n",
              "      <td>71221.750000</td>\n",
              "      <td>71088.976563</td>\n",
              "      <td>8117</td>\n",
              "    </tr>\n",
              "    <tr>\n",
              "      <th>4</th>\n",
              "      <td>2022-06-28</td>\n",
              "      <td>71000.000000</td>\n",
              "      <td>72599.750000</td>\n",
              "      <td>70567.703125</td>\n",
              "      <td>72268.648438</td>\n",
              "      <td>72133.921875</td>\n",
              "      <td>10643</td>\n",
              "    </tr>\n",
              "    <tr>\n",
              "      <th>...</th>\n",
              "      <td>...</td>\n",
              "      <td>...</td>\n",
              "      <td>...</td>\n",
              "      <td>...</td>\n",
              "      <td>...</td>\n",
              "      <td>...</td>\n",
              "      <td>...</td>\n",
              "    </tr>\n",
              "    <tr>\n",
              "      <th>206</th>\n",
              "      <td>2023-04-24</td>\n",
              "      <td>86945.000000</td>\n",
              "      <td>87200.000000</td>\n",
              "      <td>86300.000000</td>\n",
              "      <td>86896.148438</td>\n",
              "      <td>86896.148438</td>\n",
              "      <td>3160</td>\n",
              "    </tr>\n",
              "    <tr>\n",
              "      <th>207</th>\n",
              "      <td>2023-04-25</td>\n",
              "      <td>87100.000000</td>\n",
              "      <td>87399.953125</td>\n",
              "      <td>86086.000000</td>\n",
              "      <td>86561.453125</td>\n",
              "      <td>86561.453125</td>\n",
              "      <td>3991</td>\n",
              "    </tr>\n",
              "    <tr>\n",
              "      <th>208</th>\n",
              "      <td>2023-04-26</td>\n",
              "      <td>86550.000000</td>\n",
              "      <td>87332.898438</td>\n",
              "      <td>86400.000000</td>\n",
              "      <td>87231.203125</td>\n",
              "      <td>87231.203125</td>\n",
              "      <td>4413</td>\n",
              "    </tr>\n",
              "    <tr>\n",
              "      <th>209</th>\n",
              "      <td>2023-04-27</td>\n",
              "      <td>87497.000000</td>\n",
              "      <td>87600.000000</td>\n",
              "      <td>86810.000000</td>\n",
              "      <td>87455.898438</td>\n",
              "      <td>87455.898438</td>\n",
              "      <td>3368</td>\n",
              "    </tr>\n",
              "    <tr>\n",
              "      <th>210</th>\n",
              "      <td>2023-04-28</td>\n",
              "      <td>87437.351563</td>\n",
              "      <td>89300.000000</td>\n",
              "      <td>87376.000000</td>\n",
              "      <td>89006.796875</td>\n",
              "      <td>89006.796875</td>\n",
              "      <td>7620</td>\n",
              "    </tr>\n",
              "  </tbody>\n",
              "</table>\n",
              "<p>211 rows × 7 columns</p>\n",
              "</div>\n",
              "      <button class=\"colab-df-convert\" onclick=\"convertToInteractive('df-e22a4b5f-3fe3-427f-975b-e63a66573295')\"\n",
              "              title=\"Convert this dataframe to an interactive table.\"\n",
              "              style=\"display:none;\">\n",
              "        \n",
              "  <svg xmlns=\"http://www.w3.org/2000/svg\" height=\"24px\"viewBox=\"0 0 24 24\"\n",
              "       width=\"24px\">\n",
              "    <path d=\"M0 0h24v24H0V0z\" fill=\"none\"/>\n",
              "    <path d=\"M18.56 5.44l.94 2.06.94-2.06 2.06-.94-2.06-.94-.94-2.06-.94 2.06-2.06.94zm-11 1L8.5 8.5l.94-2.06 2.06-.94-2.06-.94L8.5 2.5l-.94 2.06-2.06.94zm10 10l.94 2.06.94-2.06 2.06-.94-2.06-.94-.94-2.06-.94 2.06-2.06.94z\"/><path d=\"M17.41 7.96l-1.37-1.37c-.4-.4-.92-.59-1.43-.59-.52 0-1.04.2-1.43.59L10.3 9.45l-7.72 7.72c-.78.78-.78 2.05 0 2.83L4 21.41c.39.39.9.59 1.41.59.51 0 1.02-.2 1.41-.59l7.78-7.78 2.81-2.81c.8-.78.8-2.07 0-2.86zM5.41 20L4 18.59l7.72-7.72 1.47 1.35L5.41 20z\"/>\n",
              "  </svg>\n",
              "      </button>\n",
              "      \n",
              "  <style>\n",
              "    .colab-df-container {\n",
              "      display:flex;\n",
              "      flex-wrap:wrap;\n",
              "      gap: 12px;\n",
              "    }\n",
              "\n",
              "    .colab-df-convert {\n",
              "      background-color: #E8F0FE;\n",
              "      border: none;\n",
              "      border-radius: 50%;\n",
              "      cursor: pointer;\n",
              "      display: none;\n",
              "      fill: #1967D2;\n",
              "      height: 32px;\n",
              "      padding: 0 0 0 0;\n",
              "      width: 32px;\n",
              "    }\n",
              "\n",
              "    .colab-df-convert:hover {\n",
              "      background-color: #E2EBFA;\n",
              "      box-shadow: 0px 1px 2px rgba(60, 64, 67, 0.3), 0px 1px 3px 1px rgba(60, 64, 67, 0.15);\n",
              "      fill: #174EA6;\n",
              "    }\n",
              "\n",
              "    [theme=dark] .colab-df-convert {\n",
              "      background-color: #3B4455;\n",
              "      fill: #D2E3FC;\n",
              "    }\n",
              "\n",
              "    [theme=dark] .colab-df-convert:hover {\n",
              "      background-color: #434B5C;\n",
              "      box-shadow: 0px 1px 3px 1px rgba(0, 0, 0, 0.15);\n",
              "      filter: drop-shadow(0px 1px 2px rgba(0, 0, 0, 0.3));\n",
              "      fill: #FFFFFF;\n",
              "    }\n",
              "  </style>\n",
              "\n",
              "      <script>\n",
              "        const buttonEl =\n",
              "          document.querySelector('#df-e22a4b5f-3fe3-427f-975b-e63a66573295 button.colab-df-convert');\n",
              "        buttonEl.style.display =\n",
              "          google.colab.kernel.accessAllowed ? 'block' : 'none';\n",
              "\n",
              "        async function convertToInteractive(key) {\n",
              "          const element = document.querySelector('#df-e22a4b5f-3fe3-427f-975b-e63a66573295');\n",
              "          const dataTable =\n",
              "            await google.colab.kernel.invokeFunction('convertToInteractive',\n",
              "                                                     [key], {});\n",
              "          if (!dataTable) return;\n",
              "\n",
              "          const docLinkHtml = 'Like what you see? Visit the ' +\n",
              "            '<a target=\"_blank\" href=https://colab.research.google.com/notebooks/data_table.ipynb>data table notebook</a>'\n",
              "            + ' to learn more about interactive tables.';\n",
              "          element.innerHTML = '';\n",
              "          dataTable['output_type'] = 'display_data';\n",
              "          await google.colab.output.renderOutput(dataTable, element);\n",
              "          const docLink = document.createElement('div');\n",
              "          docLink.innerHTML = docLinkHtml;\n",
              "          element.appendChild(docLink);\n",
              "        }\n",
              "      </script>\n",
              "    </div>\n",
              "  </div>\n",
              "  "
            ],
            "text/plain": [
              "          Date          Open          High           Low         Close  \\\n",
              "0   2022-06-22  67600.000000  68230.000000  67350.000000  68040.601563   \n",
              "1   2022-06-23  68040.601563  69280.000000  68040.546875  69006.203125   \n",
              "2   2022-06-24  68900.000000  70775.000000  68900.000000  70553.000000   \n",
              "3   2022-06-27  71200.000000  71907.703125  70900.000000  71221.750000   \n",
              "4   2022-06-28  71000.000000  72599.750000  70567.703125  72268.648438   \n",
              "..         ...           ...           ...           ...           ...   \n",
              "206 2023-04-24  86945.000000  87200.000000  86300.000000  86896.148438   \n",
              "207 2023-04-25  87100.000000  87399.953125  86086.000000  86561.453125   \n",
              "208 2023-04-26  86550.000000  87332.898438  86400.000000  87231.203125   \n",
              "209 2023-04-27  87497.000000  87600.000000  86810.000000  87455.898438   \n",
              "210 2023-04-28  87437.351563  89300.000000  87376.000000  89006.796875   \n",
              "\n",
              "        Adj Close  Volume  \n",
              "0    67913.750000    4849  \n",
              "1    68877.554688    7455  \n",
              "2    70421.460938   12532  \n",
              "3    71088.976563    8117  \n",
              "4    72133.921875   10643  \n",
              "..            ...     ...  \n",
              "206  86896.148438    3160  \n",
              "207  86561.453125    3991  \n",
              "208  87231.203125    4413  \n",
              "209  87455.898438    3368  \n",
              "210  89006.796875    7620  \n",
              "\n",
              "[211 rows x 7 columns]"
            ]
          },
          "execution_count": 100,
          "metadata": {},
          "output_type": "execute_result"
        }
      ],
      "source": [
        "df"
      ]
    },
    {
      "cell_type": "code",
      "execution_count": null,
      "metadata": {
        "colab": {
          "base_uri": "https://localhost:8080/",
          "height": 423
        },
        "id": "ECSiD7qyNzty",
        "outputId": "b349542e-f456-4f1c-d036-d500eb191a52"
      },
      "outputs": [
        {
          "data": {
            "text/html": [
              "\n",
              "  <div id=\"df-b7bb8c1b-2536-46ee-9441-97dc84f8985c\">\n",
              "    <div class=\"colab-df-container\">\n",
              "      <div>\n",
              "<style scoped>\n",
              "    .dataframe tbody tr th:only-of-type {\n",
              "        vertical-align: middle;\n",
              "    }\n",
              "\n",
              "    .dataframe tbody tr th {\n",
              "        vertical-align: top;\n",
              "    }\n",
              "\n",
              "    .dataframe thead th {\n",
              "        text-align: right;\n",
              "    }\n",
              "</style>\n",
              "<table border=\"1\" class=\"dataframe\">\n",
              "  <thead>\n",
              "    <tr style=\"text-align: right;\">\n",
              "      <th></th>\n",
              "      <th>Date</th>\n",
              "      <th>Open</th>\n",
              "      <th>High</th>\n",
              "      <th>Low</th>\n",
              "      <th>Close</th>\n",
              "      <th>Adj Close</th>\n",
              "      <th>Volume</th>\n",
              "    </tr>\n",
              "  </thead>\n",
              "  <tbody>\n",
              "    <tr>\n",
              "      <th>0</th>\n",
              "      <td>2022-06-22</td>\n",
              "      <td>67600.000000</td>\n",
              "      <td>68230.000000</td>\n",
              "      <td>67350.000000</td>\n",
              "      <td>68040.601563</td>\n",
              "      <td>67913.750000</td>\n",
              "      <td>4849</td>\n",
              "    </tr>\n",
              "    <tr>\n",
              "      <th>1</th>\n",
              "      <td>2022-06-23</td>\n",
              "      <td>68040.601563</td>\n",
              "      <td>69280.000000</td>\n",
              "      <td>68040.546875</td>\n",
              "      <td>69006.203125</td>\n",
              "      <td>68877.554688</td>\n",
              "      <td>7455</td>\n",
              "    </tr>\n",
              "    <tr>\n",
              "      <th>2</th>\n",
              "      <td>2022-06-24</td>\n",
              "      <td>68900.000000</td>\n",
              "      <td>70775.000000</td>\n",
              "      <td>68900.000000</td>\n",
              "      <td>70553.000000</td>\n",
              "      <td>70421.460938</td>\n",
              "      <td>12532</td>\n",
              "    </tr>\n",
              "    <tr>\n",
              "      <th>3</th>\n",
              "      <td>2022-06-27</td>\n",
              "      <td>71200.000000</td>\n",
              "      <td>71907.703125</td>\n",
              "      <td>70900.000000</td>\n",
              "      <td>71221.750000</td>\n",
              "      <td>71088.976563</td>\n",
              "      <td>8117</td>\n",
              "    </tr>\n",
              "    <tr>\n",
              "      <th>4</th>\n",
              "      <td>2022-06-28</td>\n",
              "      <td>71000.000000</td>\n",
              "      <td>72599.750000</td>\n",
              "      <td>70567.703125</td>\n",
              "      <td>72268.648438</td>\n",
              "      <td>72133.921875</td>\n",
              "      <td>10643</td>\n",
              "    </tr>\n",
              "    <tr>\n",
              "      <th>...</th>\n",
              "      <td>...</td>\n",
              "      <td>...</td>\n",
              "      <td>...</td>\n",
              "      <td>...</td>\n",
              "      <td>...</td>\n",
              "      <td>...</td>\n",
              "      <td>...</td>\n",
              "    </tr>\n",
              "    <tr>\n",
              "      <th>206</th>\n",
              "      <td>2023-04-24</td>\n",
              "      <td>86945.000000</td>\n",
              "      <td>87200.000000</td>\n",
              "      <td>86300.000000</td>\n",
              "      <td>86896.148438</td>\n",
              "      <td>86896.148438</td>\n",
              "      <td>3160</td>\n",
              "    </tr>\n",
              "    <tr>\n",
              "      <th>207</th>\n",
              "      <td>2023-04-25</td>\n",
              "      <td>87100.000000</td>\n",
              "      <td>87399.953125</td>\n",
              "      <td>86086.000000</td>\n",
              "      <td>86561.453125</td>\n",
              "      <td>86561.453125</td>\n",
              "      <td>3991</td>\n",
              "    </tr>\n",
              "    <tr>\n",
              "      <th>208</th>\n",
              "      <td>2023-04-26</td>\n",
              "      <td>86550.000000</td>\n",
              "      <td>87332.898438</td>\n",
              "      <td>86400.000000</td>\n",
              "      <td>87231.203125</td>\n",
              "      <td>87231.203125</td>\n",
              "      <td>4413</td>\n",
              "    </tr>\n",
              "    <tr>\n",
              "      <th>209</th>\n",
              "      <td>2023-04-27</td>\n",
              "      <td>87497.000000</td>\n",
              "      <td>87600.000000</td>\n",
              "      <td>86810.000000</td>\n",
              "      <td>87455.898438</td>\n",
              "      <td>87455.898438</td>\n",
              "      <td>3368</td>\n",
              "    </tr>\n",
              "    <tr>\n",
              "      <th>210</th>\n",
              "      <td>2023-04-28</td>\n",
              "      <td>87437.351563</td>\n",
              "      <td>89300.000000</td>\n",
              "      <td>87376.000000</td>\n",
              "      <td>89006.796875</td>\n",
              "      <td>89006.796875</td>\n",
              "      <td>7620</td>\n",
              "    </tr>\n",
              "  </tbody>\n",
              "</table>\n",
              "<p>211 rows × 7 columns</p>\n",
              "</div>\n",
              "      <button class=\"colab-df-convert\" onclick=\"convertToInteractive('df-b7bb8c1b-2536-46ee-9441-97dc84f8985c')\"\n",
              "              title=\"Convert this dataframe to an interactive table.\"\n",
              "              style=\"display:none;\">\n",
              "        \n",
              "  <svg xmlns=\"http://www.w3.org/2000/svg\" height=\"24px\"viewBox=\"0 0 24 24\"\n",
              "       width=\"24px\">\n",
              "    <path d=\"M0 0h24v24H0V0z\" fill=\"none\"/>\n",
              "    <path d=\"M18.56 5.44l.94 2.06.94-2.06 2.06-.94-2.06-.94-.94-2.06-.94 2.06-2.06.94zm-11 1L8.5 8.5l.94-2.06 2.06-.94-2.06-.94L8.5 2.5l-.94 2.06-2.06.94zm10 10l.94 2.06.94-2.06 2.06-.94-2.06-.94-.94-2.06-.94 2.06-2.06.94z\"/><path d=\"M17.41 7.96l-1.37-1.37c-.4-.4-.92-.59-1.43-.59-.52 0-1.04.2-1.43.59L10.3 9.45l-7.72 7.72c-.78.78-.78 2.05 0 2.83L4 21.41c.39.39.9.59 1.41.59.51 0 1.02-.2 1.41-.59l7.78-7.78 2.81-2.81c.8-.78.8-2.07 0-2.86zM5.41 20L4 18.59l7.72-7.72 1.47 1.35L5.41 20z\"/>\n",
              "  </svg>\n",
              "      </button>\n",
              "      \n",
              "  <style>\n",
              "    .colab-df-container {\n",
              "      display:flex;\n",
              "      flex-wrap:wrap;\n",
              "      gap: 12px;\n",
              "    }\n",
              "\n",
              "    .colab-df-convert {\n",
              "      background-color: #E8F0FE;\n",
              "      border: none;\n",
              "      border-radius: 50%;\n",
              "      cursor: pointer;\n",
              "      display: none;\n",
              "      fill: #1967D2;\n",
              "      height: 32px;\n",
              "      padding: 0 0 0 0;\n",
              "      width: 32px;\n",
              "    }\n",
              "\n",
              "    .colab-df-convert:hover {\n",
              "      background-color: #E2EBFA;\n",
              "      box-shadow: 0px 1px 2px rgba(60, 64, 67, 0.3), 0px 1px 3px 1px rgba(60, 64, 67, 0.15);\n",
              "      fill: #174EA6;\n",
              "    }\n",
              "\n",
              "    [theme=dark] .colab-df-convert {\n",
              "      background-color: #3B4455;\n",
              "      fill: #D2E3FC;\n",
              "    }\n",
              "\n",
              "    [theme=dark] .colab-df-convert:hover {\n",
              "      background-color: #434B5C;\n",
              "      box-shadow: 0px 1px 3px 1px rgba(0, 0, 0, 0.15);\n",
              "      filter: drop-shadow(0px 1px 2px rgba(0, 0, 0, 0.3));\n",
              "      fill: #FFFFFF;\n",
              "    }\n",
              "  </style>\n",
              "\n",
              "      <script>\n",
              "        const buttonEl =\n",
              "          document.querySelector('#df-b7bb8c1b-2536-46ee-9441-97dc84f8985c button.colab-df-convert');\n",
              "        buttonEl.style.display =\n",
              "          google.colab.kernel.accessAllowed ? 'block' : 'none';\n",
              "\n",
              "        async function convertToInteractive(key) {\n",
              "          const element = document.querySelector('#df-b7bb8c1b-2536-46ee-9441-97dc84f8985c');\n",
              "          const dataTable =\n",
              "            await google.colab.kernel.invokeFunction('convertToInteractive',\n",
              "                                                     [key], {});\n",
              "          if (!dataTable) return;\n",
              "\n",
              "          const docLinkHtml = 'Like what you see? Visit the ' +\n",
              "            '<a target=\"_blank\" href=https://colab.research.google.com/notebooks/data_table.ipynb>data table notebook</a>'\n",
              "            + ' to learn more about interactive tables.';\n",
              "          element.innerHTML = '';\n",
              "          dataTable['output_type'] = 'display_data';\n",
              "          await google.colab.output.renderOutput(dataTable, element);\n",
              "          const docLink = document.createElement('div');\n",
              "          docLink.innerHTML = docLinkHtml;\n",
              "          element.appendChild(docLink);\n",
              "        }\n",
              "      </script>\n",
              "    </div>\n",
              "  </div>\n",
              "  "
            ],
            "text/plain": [
              "          Date          Open          High           Low         Close  \\\n",
              "0   2022-06-22  67600.000000  68230.000000  67350.000000  68040.601563   \n",
              "1   2022-06-23  68040.601563  69280.000000  68040.546875  69006.203125   \n",
              "2   2022-06-24  68900.000000  70775.000000  68900.000000  70553.000000   \n",
              "3   2022-06-27  71200.000000  71907.703125  70900.000000  71221.750000   \n",
              "4   2022-06-28  71000.000000  72599.750000  70567.703125  72268.648438   \n",
              "..         ...           ...           ...           ...           ...   \n",
              "206 2023-04-24  86945.000000  87200.000000  86300.000000  86896.148438   \n",
              "207 2023-04-25  87100.000000  87399.953125  86086.000000  86561.453125   \n",
              "208 2023-04-26  86550.000000  87332.898438  86400.000000  87231.203125   \n",
              "209 2023-04-27  87497.000000  87600.000000  86810.000000  87455.898438   \n",
              "210 2023-04-28  87437.351563  89300.000000  87376.000000  89006.796875   \n",
              "\n",
              "        Adj Close  Volume  \n",
              "0    67913.750000    4849  \n",
              "1    68877.554688    7455  \n",
              "2    70421.460938   12532  \n",
              "3    71088.976563    8117  \n",
              "4    72133.921875   10643  \n",
              "..            ...     ...  \n",
              "206  86896.148438    3160  \n",
              "207  86561.453125    3991  \n",
              "208  87231.203125    4413  \n",
              "209  87455.898438    3368  \n",
              "210  89006.796875    7620  \n",
              "\n",
              "[211 rows x 7 columns]"
            ]
          },
          "execution_count": 101,
          "metadata": {},
          "output_type": "execute_result"
        }
      ],
      "source": [
        "copy_df = df.copy()\n",
        "copy_df"
      ]
    },
    {
      "cell_type": "code",
      "execution_count": null,
      "metadata": {
        "colab": {
          "base_uri": "https://localhost:8080/",
          "height": 423
        },
        "id": "4roXmClwN28D",
        "outputId": "62109e8b-2d0d-40c6-83ea-f12645eb2185"
      },
      "outputs": [
        {
          "data": {
            "text/html": [
              "\n",
              "  <div id=\"df-a13c24c0-12e1-4070-93ea-2d2354d78307\">\n",
              "    <div class=\"colab-df-container\">\n",
              "      <div>\n",
              "<style scoped>\n",
              "    .dataframe tbody tr th:only-of-type {\n",
              "        vertical-align: middle;\n",
              "    }\n",
              "\n",
              "    .dataframe tbody tr th {\n",
              "        vertical-align: top;\n",
              "    }\n",
              "\n",
              "    .dataframe thead th {\n",
              "        text-align: right;\n",
              "    }\n",
              "</style>\n",
              "<table border=\"1\" class=\"dataframe\">\n",
              "  <thead>\n",
              "    <tr style=\"text-align: right;\">\n",
              "      <th></th>\n",
              "      <th>index</th>\n",
              "      <th>Date</th>\n",
              "      <th>Open</th>\n",
              "      <th>High</th>\n",
              "      <th>Low</th>\n",
              "      <th>Close</th>\n",
              "      <th>Adj Close</th>\n",
              "      <th>Volume</th>\n",
              "    </tr>\n",
              "  </thead>\n",
              "  <tbody>\n",
              "    <tr>\n",
              "      <th>0</th>\n",
              "      <td>0</td>\n",
              "      <td>2022-06-22</td>\n",
              "      <td>67600.000000</td>\n",
              "      <td>68230.000000</td>\n",
              "      <td>67350.000000</td>\n",
              "      <td>68040.601563</td>\n",
              "      <td>67913.750000</td>\n",
              "      <td>4849</td>\n",
              "    </tr>\n",
              "    <tr>\n",
              "      <th>1</th>\n",
              "      <td>1</td>\n",
              "      <td>2022-06-23</td>\n",
              "      <td>68040.601563</td>\n",
              "      <td>69280.000000</td>\n",
              "      <td>68040.546875</td>\n",
              "      <td>69006.203125</td>\n",
              "      <td>68877.554688</td>\n",
              "      <td>7455</td>\n",
              "    </tr>\n",
              "    <tr>\n",
              "      <th>2</th>\n",
              "      <td>2</td>\n",
              "      <td>2022-06-24</td>\n",
              "      <td>68900.000000</td>\n",
              "      <td>70775.000000</td>\n",
              "      <td>68900.000000</td>\n",
              "      <td>70553.000000</td>\n",
              "      <td>70421.460938</td>\n",
              "      <td>12532</td>\n",
              "    </tr>\n",
              "    <tr>\n",
              "      <th>3</th>\n",
              "      <td>3</td>\n",
              "      <td>2022-06-27</td>\n",
              "      <td>71200.000000</td>\n",
              "      <td>71907.703125</td>\n",
              "      <td>70900.000000</td>\n",
              "      <td>71221.750000</td>\n",
              "      <td>71088.976563</td>\n",
              "      <td>8117</td>\n",
              "    </tr>\n",
              "    <tr>\n",
              "      <th>4</th>\n",
              "      <td>4</td>\n",
              "      <td>2022-06-28</td>\n",
              "      <td>71000.000000</td>\n",
              "      <td>72599.750000</td>\n",
              "      <td>70567.703125</td>\n",
              "      <td>72268.648438</td>\n",
              "      <td>72133.921875</td>\n",
              "      <td>10643</td>\n",
              "    </tr>\n",
              "    <tr>\n",
              "      <th>...</th>\n",
              "      <td>...</td>\n",
              "      <td>...</td>\n",
              "      <td>...</td>\n",
              "      <td>...</td>\n",
              "      <td>...</td>\n",
              "      <td>...</td>\n",
              "      <td>...</td>\n",
              "      <td>...</td>\n",
              "    </tr>\n",
              "    <tr>\n",
              "      <th>206</th>\n",
              "      <td>206</td>\n",
              "      <td>2023-04-24</td>\n",
              "      <td>86945.000000</td>\n",
              "      <td>87200.000000</td>\n",
              "      <td>86300.000000</td>\n",
              "      <td>86896.148438</td>\n",
              "      <td>86896.148438</td>\n",
              "      <td>3160</td>\n",
              "    </tr>\n",
              "    <tr>\n",
              "      <th>207</th>\n",
              "      <td>207</td>\n",
              "      <td>2023-04-25</td>\n",
              "      <td>87100.000000</td>\n",
              "      <td>87399.953125</td>\n",
              "      <td>86086.000000</td>\n",
              "      <td>86561.453125</td>\n",
              "      <td>86561.453125</td>\n",
              "      <td>3991</td>\n",
              "    </tr>\n",
              "    <tr>\n",
              "      <th>208</th>\n",
              "      <td>208</td>\n",
              "      <td>2023-04-26</td>\n",
              "      <td>86550.000000</td>\n",
              "      <td>87332.898438</td>\n",
              "      <td>86400.000000</td>\n",
              "      <td>87231.203125</td>\n",
              "      <td>87231.203125</td>\n",
              "      <td>4413</td>\n",
              "    </tr>\n",
              "    <tr>\n",
              "      <th>209</th>\n",
              "      <td>209</td>\n",
              "      <td>2023-04-27</td>\n",
              "      <td>87497.000000</td>\n",
              "      <td>87600.000000</td>\n",
              "      <td>86810.000000</td>\n",
              "      <td>87455.898438</td>\n",
              "      <td>87455.898438</td>\n",
              "      <td>3368</td>\n",
              "    </tr>\n",
              "    <tr>\n",
              "      <th>210</th>\n",
              "      <td>210</td>\n",
              "      <td>2023-04-28</td>\n",
              "      <td>87437.351563</td>\n",
              "      <td>89300.000000</td>\n",
              "      <td>87376.000000</td>\n",
              "      <td>89006.796875</td>\n",
              "      <td>89006.796875</td>\n",
              "      <td>7620</td>\n",
              "    </tr>\n",
              "  </tbody>\n",
              "</table>\n",
              "<p>211 rows × 8 columns</p>\n",
              "</div>\n",
              "      <button class=\"colab-df-convert\" onclick=\"convertToInteractive('df-a13c24c0-12e1-4070-93ea-2d2354d78307')\"\n",
              "              title=\"Convert this dataframe to an interactive table.\"\n",
              "              style=\"display:none;\">\n",
              "        \n",
              "  <svg xmlns=\"http://www.w3.org/2000/svg\" height=\"24px\"viewBox=\"0 0 24 24\"\n",
              "       width=\"24px\">\n",
              "    <path d=\"M0 0h24v24H0V0z\" fill=\"none\"/>\n",
              "    <path d=\"M18.56 5.44l.94 2.06.94-2.06 2.06-.94-2.06-.94-.94-2.06-.94 2.06-2.06.94zm-11 1L8.5 8.5l.94-2.06 2.06-.94-2.06-.94L8.5 2.5l-.94 2.06-2.06.94zm10 10l.94 2.06.94-2.06 2.06-.94-2.06-.94-.94-2.06-.94 2.06-2.06.94z\"/><path d=\"M17.41 7.96l-1.37-1.37c-.4-.4-.92-.59-1.43-.59-.52 0-1.04.2-1.43.59L10.3 9.45l-7.72 7.72c-.78.78-.78 2.05 0 2.83L4 21.41c.39.39.9.59 1.41.59.51 0 1.02-.2 1.41-.59l7.78-7.78 2.81-2.81c.8-.78.8-2.07 0-2.86zM5.41 20L4 18.59l7.72-7.72 1.47 1.35L5.41 20z\"/>\n",
              "  </svg>\n",
              "      </button>\n",
              "      \n",
              "  <style>\n",
              "    .colab-df-container {\n",
              "      display:flex;\n",
              "      flex-wrap:wrap;\n",
              "      gap: 12px;\n",
              "    }\n",
              "\n",
              "    .colab-df-convert {\n",
              "      background-color: #E8F0FE;\n",
              "      border: none;\n",
              "      border-radius: 50%;\n",
              "      cursor: pointer;\n",
              "      display: none;\n",
              "      fill: #1967D2;\n",
              "      height: 32px;\n",
              "      padding: 0 0 0 0;\n",
              "      width: 32px;\n",
              "    }\n",
              "\n",
              "    .colab-df-convert:hover {\n",
              "      background-color: #E2EBFA;\n",
              "      box-shadow: 0px 1px 2px rgba(60, 64, 67, 0.3), 0px 1px 3px 1px rgba(60, 64, 67, 0.15);\n",
              "      fill: #174EA6;\n",
              "    }\n",
              "\n",
              "    [theme=dark] .colab-df-convert {\n",
              "      background-color: #3B4455;\n",
              "      fill: #D2E3FC;\n",
              "    }\n",
              "\n",
              "    [theme=dark] .colab-df-convert:hover {\n",
              "      background-color: #434B5C;\n",
              "      box-shadow: 0px 1px 3px 1px rgba(0, 0, 0, 0.15);\n",
              "      filter: drop-shadow(0px 1px 2px rgba(0, 0, 0, 0.3));\n",
              "      fill: #FFFFFF;\n",
              "    }\n",
              "  </style>\n",
              "\n",
              "      <script>\n",
              "        const buttonEl =\n",
              "          document.querySelector('#df-a13c24c0-12e1-4070-93ea-2d2354d78307 button.colab-df-convert');\n",
              "        buttonEl.style.display =\n",
              "          google.colab.kernel.accessAllowed ? 'block' : 'none';\n",
              "\n",
              "        async function convertToInteractive(key) {\n",
              "          const element = document.querySelector('#df-a13c24c0-12e1-4070-93ea-2d2354d78307');\n",
              "          const dataTable =\n",
              "            await google.colab.kernel.invokeFunction('convertToInteractive',\n",
              "                                                     [key], {});\n",
              "          if (!dataTable) return;\n",
              "\n",
              "          const docLinkHtml = 'Like what you see? Visit the ' +\n",
              "            '<a target=\"_blank\" href=https://colab.research.google.com/notebooks/data_table.ipynb>data table notebook</a>'\n",
              "            + ' to learn more about interactive tables.';\n",
              "          element.innerHTML = '';\n",
              "          dataTable['output_type'] = 'display_data';\n",
              "          await google.colab.output.renderOutput(dataTable, element);\n",
              "          const docLink = document.createElement('div');\n",
              "          docLink.innerHTML = docLinkHtml;\n",
              "          element.appendChild(docLink);\n",
              "        }\n",
              "      </script>\n",
              "    </div>\n",
              "  </div>\n",
              "  "
            ],
            "text/plain": [
              "     index       Date          Open          High           Low         Close  \\\n",
              "0        0 2022-06-22  67600.000000  68230.000000  67350.000000  68040.601563   \n",
              "1        1 2022-06-23  68040.601563  69280.000000  68040.546875  69006.203125   \n",
              "2        2 2022-06-24  68900.000000  70775.000000  68900.000000  70553.000000   \n",
              "3        3 2022-06-27  71200.000000  71907.703125  70900.000000  71221.750000   \n",
              "4        4 2022-06-28  71000.000000  72599.750000  70567.703125  72268.648438   \n",
              "..     ...        ...           ...           ...           ...           ...   \n",
              "206    206 2023-04-24  86945.000000  87200.000000  86300.000000  86896.148438   \n",
              "207    207 2023-04-25  87100.000000  87399.953125  86086.000000  86561.453125   \n",
              "208    208 2023-04-26  86550.000000  87332.898438  86400.000000  87231.203125   \n",
              "209    209 2023-04-27  87497.000000  87600.000000  86810.000000  87455.898438   \n",
              "210    210 2023-04-28  87437.351563  89300.000000  87376.000000  89006.796875   \n",
              "\n",
              "        Adj Close  Volume  \n",
              "0    67913.750000    4849  \n",
              "1    68877.554688    7455  \n",
              "2    70421.460938   12532  \n",
              "3    71088.976563    8117  \n",
              "4    72133.921875   10643  \n",
              "..            ...     ...  \n",
              "206  86896.148438    3160  \n",
              "207  86561.453125    3991  \n",
              "208  87231.203125    4413  \n",
              "209  87455.898438    3368  \n",
              "210  89006.796875    7620  \n",
              "\n",
              "[211 rows x 8 columns]"
            ]
          },
          "execution_count": 102,
          "metadata": {},
          "output_type": "execute_result"
        }
      ],
      "source": [
        "copy_df.reset_index(inplace =True)\n",
        "copy_df"
      ]
    },
    {
      "cell_type": "code",
      "execution_count": null,
      "metadata": {
        "id": "_AePd3IWN74P"
      },
      "outputs": [],
      "source": [
        "copy_df.drop(\"index\", axis=1, inplace=True)"
      ]
    },
    {
      "cell_type": "code",
      "execution_count": null,
      "metadata": {
        "colab": {
          "base_uri": "https://localhost:8080/",
          "height": 423
        },
        "id": "VwBhdN_ROAgx",
        "outputId": "70c08482-b071-481e-d788-e2f83a2c37b0"
      },
      "outputs": [
        {
          "data": {
            "text/html": [
              "\n",
              "  <div id=\"df-3d882417-e662-4da1-97e1-560d74f0acdf\">\n",
              "    <div class=\"colab-df-container\">\n",
              "      <div>\n",
              "<style scoped>\n",
              "    .dataframe tbody tr th:only-of-type {\n",
              "        vertical-align: middle;\n",
              "    }\n",
              "\n",
              "    .dataframe tbody tr th {\n",
              "        vertical-align: top;\n",
              "    }\n",
              "\n",
              "    .dataframe thead th {\n",
              "        text-align: right;\n",
              "    }\n",
              "</style>\n",
              "<table border=\"1\" class=\"dataframe\">\n",
              "  <thead>\n",
              "    <tr style=\"text-align: right;\">\n",
              "      <th></th>\n",
              "      <th>Date</th>\n",
              "      <th>Open</th>\n",
              "      <th>High</th>\n",
              "      <th>Low</th>\n",
              "      <th>Close</th>\n",
              "      <th>Adj Close</th>\n",
              "      <th>Volume</th>\n",
              "    </tr>\n",
              "  </thead>\n",
              "  <tbody>\n",
              "    <tr>\n",
              "      <th>0</th>\n",
              "      <td>2022-06-22</td>\n",
              "      <td>67600.000000</td>\n",
              "      <td>68230.000000</td>\n",
              "      <td>67350.000000</td>\n",
              "      <td>68040.601563</td>\n",
              "      <td>67913.750000</td>\n",
              "      <td>4849</td>\n",
              "    </tr>\n",
              "    <tr>\n",
              "      <th>1</th>\n",
              "      <td>2022-06-23</td>\n",
              "      <td>68040.601563</td>\n",
              "      <td>69280.000000</td>\n",
              "      <td>68040.546875</td>\n",
              "      <td>69006.203125</td>\n",
              "      <td>68877.554688</td>\n",
              "      <td>7455</td>\n",
              "    </tr>\n",
              "    <tr>\n",
              "      <th>2</th>\n",
              "      <td>2022-06-24</td>\n",
              "      <td>68900.000000</td>\n",
              "      <td>70775.000000</td>\n",
              "      <td>68900.000000</td>\n",
              "      <td>70553.000000</td>\n",
              "      <td>70421.460938</td>\n",
              "      <td>12532</td>\n",
              "    </tr>\n",
              "    <tr>\n",
              "      <th>3</th>\n",
              "      <td>2022-06-27</td>\n",
              "      <td>71200.000000</td>\n",
              "      <td>71907.703125</td>\n",
              "      <td>70900.000000</td>\n",
              "      <td>71221.750000</td>\n",
              "      <td>71088.976563</td>\n",
              "      <td>8117</td>\n",
              "    </tr>\n",
              "    <tr>\n",
              "      <th>4</th>\n",
              "      <td>2022-06-28</td>\n",
              "      <td>71000.000000</td>\n",
              "      <td>72599.750000</td>\n",
              "      <td>70567.703125</td>\n",
              "      <td>72268.648438</td>\n",
              "      <td>72133.921875</td>\n",
              "      <td>10643</td>\n",
              "    </tr>\n",
              "    <tr>\n",
              "      <th>...</th>\n",
              "      <td>...</td>\n",
              "      <td>...</td>\n",
              "      <td>...</td>\n",
              "      <td>...</td>\n",
              "      <td>...</td>\n",
              "      <td>...</td>\n",
              "      <td>...</td>\n",
              "    </tr>\n",
              "    <tr>\n",
              "      <th>206</th>\n",
              "      <td>2023-04-24</td>\n",
              "      <td>86945.000000</td>\n",
              "      <td>87200.000000</td>\n",
              "      <td>86300.000000</td>\n",
              "      <td>86896.148438</td>\n",
              "      <td>86896.148438</td>\n",
              "      <td>3160</td>\n",
              "    </tr>\n",
              "    <tr>\n",
              "      <th>207</th>\n",
              "      <td>2023-04-25</td>\n",
              "      <td>87100.000000</td>\n",
              "      <td>87399.953125</td>\n",
              "      <td>86086.000000</td>\n",
              "      <td>86561.453125</td>\n",
              "      <td>86561.453125</td>\n",
              "      <td>3991</td>\n",
              "    </tr>\n",
              "    <tr>\n",
              "      <th>208</th>\n",
              "      <td>2023-04-26</td>\n",
              "      <td>86550.000000</td>\n",
              "      <td>87332.898438</td>\n",
              "      <td>86400.000000</td>\n",
              "      <td>87231.203125</td>\n",
              "      <td>87231.203125</td>\n",
              "      <td>4413</td>\n",
              "    </tr>\n",
              "    <tr>\n",
              "      <th>209</th>\n",
              "      <td>2023-04-27</td>\n",
              "      <td>87497.000000</td>\n",
              "      <td>87600.000000</td>\n",
              "      <td>86810.000000</td>\n",
              "      <td>87455.898438</td>\n",
              "      <td>87455.898438</td>\n",
              "      <td>3368</td>\n",
              "    </tr>\n",
              "    <tr>\n",
              "      <th>210</th>\n",
              "      <td>2023-04-28</td>\n",
              "      <td>87437.351563</td>\n",
              "      <td>89300.000000</td>\n",
              "      <td>87376.000000</td>\n",
              "      <td>89006.796875</td>\n",
              "      <td>89006.796875</td>\n",
              "      <td>7620</td>\n",
              "    </tr>\n",
              "  </tbody>\n",
              "</table>\n",
              "<p>211 rows × 7 columns</p>\n",
              "</div>\n",
              "      <button class=\"colab-df-convert\" onclick=\"convertToInteractive('df-3d882417-e662-4da1-97e1-560d74f0acdf')\"\n",
              "              title=\"Convert this dataframe to an interactive table.\"\n",
              "              style=\"display:none;\">\n",
              "        \n",
              "  <svg xmlns=\"http://www.w3.org/2000/svg\" height=\"24px\"viewBox=\"0 0 24 24\"\n",
              "       width=\"24px\">\n",
              "    <path d=\"M0 0h24v24H0V0z\" fill=\"none\"/>\n",
              "    <path d=\"M18.56 5.44l.94 2.06.94-2.06 2.06-.94-2.06-.94-.94-2.06-.94 2.06-2.06.94zm-11 1L8.5 8.5l.94-2.06 2.06-.94-2.06-.94L8.5 2.5l-.94 2.06-2.06.94zm10 10l.94 2.06.94-2.06 2.06-.94-2.06-.94-.94-2.06-.94 2.06-2.06.94z\"/><path d=\"M17.41 7.96l-1.37-1.37c-.4-.4-.92-.59-1.43-.59-.52 0-1.04.2-1.43.59L10.3 9.45l-7.72 7.72c-.78.78-.78 2.05 0 2.83L4 21.41c.39.39.9.59 1.41.59.51 0 1.02-.2 1.41-.59l7.78-7.78 2.81-2.81c.8-.78.8-2.07 0-2.86zM5.41 20L4 18.59l7.72-7.72 1.47 1.35L5.41 20z\"/>\n",
              "  </svg>\n",
              "      </button>\n",
              "      \n",
              "  <style>\n",
              "    .colab-df-container {\n",
              "      display:flex;\n",
              "      flex-wrap:wrap;\n",
              "      gap: 12px;\n",
              "    }\n",
              "\n",
              "    .colab-df-convert {\n",
              "      background-color: #E8F0FE;\n",
              "      border: none;\n",
              "      border-radius: 50%;\n",
              "      cursor: pointer;\n",
              "      display: none;\n",
              "      fill: #1967D2;\n",
              "      height: 32px;\n",
              "      padding: 0 0 0 0;\n",
              "      width: 32px;\n",
              "    }\n",
              "\n",
              "    .colab-df-convert:hover {\n",
              "      background-color: #E2EBFA;\n",
              "      box-shadow: 0px 1px 2px rgba(60, 64, 67, 0.3), 0px 1px 3px 1px rgba(60, 64, 67, 0.15);\n",
              "      fill: #174EA6;\n",
              "    }\n",
              "\n",
              "    [theme=dark] .colab-df-convert {\n",
              "      background-color: #3B4455;\n",
              "      fill: #D2E3FC;\n",
              "    }\n",
              "\n",
              "    [theme=dark] .colab-df-convert:hover {\n",
              "      background-color: #434B5C;\n",
              "      box-shadow: 0px 1px 3px 1px rgba(0, 0, 0, 0.15);\n",
              "      filter: drop-shadow(0px 1px 2px rgba(0, 0, 0, 0.3));\n",
              "      fill: #FFFFFF;\n",
              "    }\n",
              "  </style>\n",
              "\n",
              "      <script>\n",
              "        const buttonEl =\n",
              "          document.querySelector('#df-3d882417-e662-4da1-97e1-560d74f0acdf button.colab-df-convert');\n",
              "        buttonEl.style.display =\n",
              "          google.colab.kernel.accessAllowed ? 'block' : 'none';\n",
              "\n",
              "        async function convertToInteractive(key) {\n",
              "          const element = document.querySelector('#df-3d882417-e662-4da1-97e1-560d74f0acdf');\n",
              "          const dataTable =\n",
              "            await google.colab.kernel.invokeFunction('convertToInteractive',\n",
              "                                                     [key], {});\n",
              "          if (!dataTable) return;\n",
              "\n",
              "          const docLinkHtml = 'Like what you see? Visit the ' +\n",
              "            '<a target=\"_blank\" href=https://colab.research.google.com/notebooks/data_table.ipynb>data table notebook</a>'\n",
              "            + ' to learn more about interactive tables.';\n",
              "          element.innerHTML = '';\n",
              "          dataTable['output_type'] = 'display_data';\n",
              "          await google.colab.output.renderOutput(dataTable, element);\n",
              "          const docLink = document.createElement('div');\n",
              "          docLink.innerHTML = docLinkHtml;\n",
              "          element.appendChild(docLink);\n",
              "        }\n",
              "      </script>\n",
              "    </div>\n",
              "  </div>\n",
              "  "
            ],
            "text/plain": [
              "          Date          Open          High           Low         Close  \\\n",
              "0   2022-06-22  67600.000000  68230.000000  67350.000000  68040.601563   \n",
              "1   2022-06-23  68040.601563  69280.000000  68040.546875  69006.203125   \n",
              "2   2022-06-24  68900.000000  70775.000000  68900.000000  70553.000000   \n",
              "3   2022-06-27  71200.000000  71907.703125  70900.000000  71221.750000   \n",
              "4   2022-06-28  71000.000000  72599.750000  70567.703125  72268.648438   \n",
              "..         ...           ...           ...           ...           ...   \n",
              "206 2023-04-24  86945.000000  87200.000000  86300.000000  86896.148438   \n",
              "207 2023-04-25  87100.000000  87399.953125  86086.000000  86561.453125   \n",
              "208 2023-04-26  86550.000000  87332.898438  86400.000000  87231.203125   \n",
              "209 2023-04-27  87497.000000  87600.000000  86810.000000  87455.898438   \n",
              "210 2023-04-28  87437.351563  89300.000000  87376.000000  89006.796875   \n",
              "\n",
              "        Adj Close  Volume  \n",
              "0    67913.750000    4849  \n",
              "1    68877.554688    7455  \n",
              "2    70421.460938   12532  \n",
              "3    71088.976563    8117  \n",
              "4    72133.921875   10643  \n",
              "..            ...     ...  \n",
              "206  86896.148438    3160  \n",
              "207  86561.453125    3991  \n",
              "208  87231.203125    4413  \n",
              "209  87455.898438    3368  \n",
              "210  89006.796875    7620  \n",
              "\n",
              "[211 rows x 7 columns]"
            ]
          },
          "execution_count": 104,
          "metadata": {},
          "output_type": "execute_result"
        }
      ],
      "source": [
        "copy_df"
      ]
    },
    {
      "cell_type": "code",
      "execution_count": null,
      "metadata": {
        "colab": {
          "base_uri": "https://localhost:8080/",
          "height": 292
        },
        "id": "toBDkaQjODx7",
        "outputId": "d5a9690a-7df3-4b0d-860a-9a453b3b92c9"
      },
      "outputs": [
        {
          "name": "stderr",
          "output_type": "stream",
          "text": [
            "<ipython-input-105-51a1e81f09ab>:2: FutureWarning: The default value of numeric_only in DataFrame.corr is deprecated. In a future version, it will default to False. Select only valid columns or specify the value of numeric_only to silence this warning.\n",
            "  copy_df.corr()\n"
          ]
        },
        {
          "data": {
            "text/html": [
              "\n",
              "  <div id=\"df-bf089500-b20f-4069-a203-227cc4bc9c9d\">\n",
              "    <div class=\"colab-df-container\">\n",
              "      <div>\n",
              "<style scoped>\n",
              "    .dataframe tbody tr th:only-of-type {\n",
              "        vertical-align: middle;\n",
              "    }\n",
              "\n",
              "    .dataframe tbody tr th {\n",
              "        vertical-align: top;\n",
              "    }\n",
              "\n",
              "    .dataframe thead th {\n",
              "        text-align: right;\n",
              "    }\n",
              "</style>\n",
              "<table border=\"1\" class=\"dataframe\">\n",
              "  <thead>\n",
              "    <tr style=\"text-align: right;\">\n",
              "      <th></th>\n",
              "      <th>Open</th>\n",
              "      <th>High</th>\n",
              "      <th>Low</th>\n",
              "      <th>Close</th>\n",
              "      <th>Adj Close</th>\n",
              "      <th>Volume</th>\n",
              "    </tr>\n",
              "  </thead>\n",
              "  <tbody>\n",
              "    <tr>\n",
              "      <th>Open</th>\n",
              "      <td>1.000000</td>\n",
              "      <td>0.986238</td>\n",
              "      <td>0.983606</td>\n",
              "      <td>0.968670</td>\n",
              "      <td>0.968988</td>\n",
              "      <td>0.141818</td>\n",
              "    </tr>\n",
              "    <tr>\n",
              "      <th>High</th>\n",
              "      <td>0.986238</td>\n",
              "      <td>1.000000</td>\n",
              "      <td>0.980394</td>\n",
              "      <td>0.986439</td>\n",
              "      <td>0.986623</td>\n",
              "      <td>0.222067</td>\n",
              "    </tr>\n",
              "    <tr>\n",
              "      <th>Low</th>\n",
              "      <td>0.983606</td>\n",
              "      <td>0.980394</td>\n",
              "      <td>1.000000</td>\n",
              "      <td>0.988590</td>\n",
              "      <td>0.988716</td>\n",
              "      <td>0.058727</td>\n",
              "    </tr>\n",
              "    <tr>\n",
              "      <th>Close</th>\n",
              "      <td>0.968670</td>\n",
              "      <td>0.986439</td>\n",
              "      <td>0.988590</td>\n",
              "      <td>1.000000</td>\n",
              "      <td>0.999983</td>\n",
              "      <td>0.139253</td>\n",
              "    </tr>\n",
              "    <tr>\n",
              "      <th>Adj Close</th>\n",
              "      <td>0.968988</td>\n",
              "      <td>0.986623</td>\n",
              "      <td>0.988716</td>\n",
              "      <td>0.999983</td>\n",
              "      <td>1.000000</td>\n",
              "      <td>0.138949</td>\n",
              "    </tr>\n",
              "    <tr>\n",
              "      <th>Volume</th>\n",
              "      <td>0.141818</td>\n",
              "      <td>0.222067</td>\n",
              "      <td>0.058727</td>\n",
              "      <td>0.139253</td>\n",
              "      <td>0.138949</td>\n",
              "      <td>1.000000</td>\n",
              "    </tr>\n",
              "  </tbody>\n",
              "</table>\n",
              "</div>\n",
              "      <button class=\"colab-df-convert\" onclick=\"convertToInteractive('df-bf089500-b20f-4069-a203-227cc4bc9c9d')\"\n",
              "              title=\"Convert this dataframe to an interactive table.\"\n",
              "              style=\"display:none;\">\n",
              "        \n",
              "  <svg xmlns=\"http://www.w3.org/2000/svg\" height=\"24px\"viewBox=\"0 0 24 24\"\n",
              "       width=\"24px\">\n",
              "    <path d=\"M0 0h24v24H0V0z\" fill=\"none\"/>\n",
              "    <path d=\"M18.56 5.44l.94 2.06.94-2.06 2.06-.94-2.06-.94-.94-2.06-.94 2.06-2.06.94zm-11 1L8.5 8.5l.94-2.06 2.06-.94-2.06-.94L8.5 2.5l-.94 2.06-2.06.94zm10 10l.94 2.06.94-2.06 2.06-.94-2.06-.94-.94-2.06-.94 2.06-2.06.94z\"/><path d=\"M17.41 7.96l-1.37-1.37c-.4-.4-.92-.59-1.43-.59-.52 0-1.04.2-1.43.59L10.3 9.45l-7.72 7.72c-.78.78-.78 2.05 0 2.83L4 21.41c.39.39.9.59 1.41.59.51 0 1.02-.2 1.41-.59l7.78-7.78 2.81-2.81c.8-.78.8-2.07 0-2.86zM5.41 20L4 18.59l7.72-7.72 1.47 1.35L5.41 20z\"/>\n",
              "  </svg>\n",
              "      </button>\n",
              "      \n",
              "  <style>\n",
              "    .colab-df-container {\n",
              "      display:flex;\n",
              "      flex-wrap:wrap;\n",
              "      gap: 12px;\n",
              "    }\n",
              "\n",
              "    .colab-df-convert {\n",
              "      background-color: #E8F0FE;\n",
              "      border: none;\n",
              "      border-radius: 50%;\n",
              "      cursor: pointer;\n",
              "      display: none;\n",
              "      fill: #1967D2;\n",
              "      height: 32px;\n",
              "      padding: 0 0 0 0;\n",
              "      width: 32px;\n",
              "    }\n",
              "\n",
              "    .colab-df-convert:hover {\n",
              "      background-color: #E2EBFA;\n",
              "      box-shadow: 0px 1px 2px rgba(60, 64, 67, 0.3), 0px 1px 3px 1px rgba(60, 64, 67, 0.15);\n",
              "      fill: #174EA6;\n",
              "    }\n",
              "\n",
              "    [theme=dark] .colab-df-convert {\n",
              "      background-color: #3B4455;\n",
              "      fill: #D2E3FC;\n",
              "    }\n",
              "\n",
              "    [theme=dark] .colab-df-convert:hover {\n",
              "      background-color: #434B5C;\n",
              "      box-shadow: 0px 1px 3px 1px rgba(0, 0, 0, 0.15);\n",
              "      filter: drop-shadow(0px 1px 2px rgba(0, 0, 0, 0.3));\n",
              "      fill: #FFFFFF;\n",
              "    }\n",
              "  </style>\n",
              "\n",
              "      <script>\n",
              "        const buttonEl =\n",
              "          document.querySelector('#df-bf089500-b20f-4069-a203-227cc4bc9c9d button.colab-df-convert');\n",
              "        buttonEl.style.display =\n",
              "          google.colab.kernel.accessAllowed ? 'block' : 'none';\n",
              "\n",
              "        async function convertToInteractive(key) {\n",
              "          const element = document.querySelector('#df-bf089500-b20f-4069-a203-227cc4bc9c9d');\n",
              "          const dataTable =\n",
              "            await google.colab.kernel.invokeFunction('convertToInteractive',\n",
              "                                                     [key], {});\n",
              "          if (!dataTable) return;\n",
              "\n",
              "          const docLinkHtml = 'Like what you see? Visit the ' +\n",
              "            '<a target=\"_blank\" href=https://colab.research.google.com/notebooks/data_table.ipynb>data table notebook</a>'\n",
              "            + ' to learn more about interactive tables.';\n",
              "          element.innerHTML = '';\n",
              "          dataTable['output_type'] = 'display_data';\n",
              "          await google.colab.output.renderOutput(dataTable, element);\n",
              "          const docLink = document.createElement('div');\n",
              "          docLink.innerHTML = docLinkHtml;\n",
              "          element.appendChild(docLink);\n",
              "        }\n",
              "      </script>\n",
              "    </div>\n",
              "  </div>\n",
              "  "
            ],
            "text/plain": [
              "               Open      High       Low     Close  Adj Close    Volume\n",
              "Open       1.000000  0.986238  0.983606  0.968670   0.968988  0.141818\n",
              "High       0.986238  1.000000  0.980394  0.986439   0.986623  0.222067\n",
              "Low        0.983606  0.980394  1.000000  0.988590   0.988716  0.058727\n",
              "Close      0.968670  0.986439  0.988590  1.000000   0.999983  0.139253\n",
              "Adj Close  0.968988  0.986623  0.988716  0.999983   1.000000  0.138949\n",
              "Volume     0.141818  0.222067  0.058727  0.139253   0.138949  1.000000"
            ]
          },
          "execution_count": 105,
          "metadata": {},
          "output_type": "execute_result"
        }
      ],
      "source": [
        "# Let's see correlation matrix...\n",
        "copy_df.corr()"
      ]
    },
    {
      "cell_type": "code",
      "execution_count": null,
      "metadata": {
        "colab": {
          "base_uri": "https://localhost:8080/",
          "height": 639
        },
        "id": "mUA1YixJOKFQ",
        "outputId": "eb386a13-7009-4e57-bfa2-68409178d7ef"
      },
      "outputs": [
        {
          "data": {
            "image/png": "[encoded data removed]",
            "text/plain": [
              "<Figure size 1000x700 with 1 Axes>"
            ]
          },
          "metadata": {},
          "output_type": "display_data"
        }
      ],
      "source": [
        "plt.figure(figsize=(10,7))\n",
        "plt.plot(copy_df[\"Date\"],\n",
        "         copy_df[\"Close\"])\n",
        "plt.xlabel(\"Date\")\n",
        "plt.ylabel(\"Closed Price\");\n",
        "plt.title(\"Variation of Closing price with different Date year\",\n",
        "          color=\"orange\",\n",
        "          fontsize=18);"
      ]
    },
    {
      "cell_type": "markdown",
      "metadata": {
        "id": "LaK-pW89OULE"
      },
      "source": [
        "##Applying univariate approch by selecting Closing Price as target variables.\n",
        "Univariate Analysis of Closing Price\n",
        "For this task, i am just doing univariate analysis of Closing Price using Stacked LSTM and just taking close attribute from our dataset"
      ]
    },
    {
      "cell_type": "code",
      "execution_count": null,
      "metadata": {
        "colab": {
          "base_uri": "https://localhost:8080/"
        },
        "id": "RZJVBjInOWxm",
        "outputId": "f15d15e8-9461-4f8c-8213-ccdd65e0d74e"
      },
      "outputs": [
        {
          "data": {
            "text/plain": [
              "0      68040.601563\n",
              "1      69006.203125\n",
              "2      70553.000000\n",
              "3      71221.750000\n",
              "4      72268.648438\n",
              "           ...     \n",
              "206    86896.148438\n",
              "207    86561.453125\n",
              "208    87231.203125\n",
              "209    87455.898438\n",
              "210    89006.796875\n",
              "Name: Close, Length: 211, dtype: float64"
            ]
          },
          "execution_count": 107,
          "metadata": {},
          "output_type": "execute_result"
        }
      ],
      "source": [
        "# Considering only `Close` variable...\n",
        "\n",
        "close_df = copy_df[\"Close\"]\n",
        "close_df"
      ]
    },
    {
      "cell_type": "markdown",
      "metadata": {
        "id": "D_ByeiP6OcNN"
      },
      "source": [
        "# Exploration and Analysis of Dataset"
      ]
    },
    {
      "cell_type": "code",
      "execution_count": null,
      "metadata": {
        "colab": {
          "base_uri": "https://localhost:8080/"
        },
        "id": "Mttx4XPWOfUn",
        "outputId": "282e2548-f32d-4b65-d91e-906c23b930b3"
      },
      "outputs": [
        {
          "data": {
            "text/plain": [
              "211"
            ]
          },
          "execution_count": 108,
          "metadata": {},
          "output_type": "execute_result"
        }
      ],
      "source": [
        "close_df.size"
      ]
    },
    {
      "cell_type": "code",
      "execution_count": null,
      "metadata": {
        "colab": {
          "base_uri": "https://localhost:8080/"
        },
        "id": "hqpxeRw5Oh4-",
        "outputId": "317bd178-3336-4ed3-bb3a-8ee273a3fa23"
      },
      "outputs": [
        {
          "data": {
            "text/plain": [
              "(211,)"
            ]
          },
          "execution_count": 109,
          "metadata": {},
          "output_type": "execute_result"
        }
      ],
      "source": [
        "close_df.shape"
      ]
    },
    {
      "cell_type": "code",
      "execution_count": null,
      "metadata": {
        "colab": {
          "base_uri": "https://localhost:8080/"
        },
        "id": "HfK6_ZExOjyM",
        "outputId": "e0c136e6-3583-4a2a-cb08-b52f734edae9"
      },
      "outputs": [
        {
          "name": "stdout",
          "output_type": "stream",
          "text": [
            "<class 'pandas.core.series.Series'>\n",
            "RangeIndex: 211 entries, 0 to 210\n",
            "Series name: Close\n",
            "Non-Null Count  Dtype  \n",
            "--------------  -----  \n",
            "211 non-null    float64\n",
            "dtypes: float64(1)\n",
            "memory usage: 1.8 KB\n"
          ]
        }
      ],
      "source": [
        "close_df.info()"
      ]
    },
    {
      "cell_type": "code",
      "execution_count": null,
      "metadata": {
        "colab": {
          "base_uri": "https://localhost:8080/"
        },
        "id": "GWS2Fa-tOmjL",
        "outputId": "25eeace6-f3ca-4780-f83b-e622dc209a5c"
      },
      "outputs": [
        {
          "data": {
            "text/plain": [
              "count      211.000000\n",
              "mean     85707.099563\n",
              "std       5214.095623\n",
              "min      68040.601563\n",
              "25%      83145.078125\n",
              "50%      86363.148438\n",
              "75%      89084.050782\n",
              "max      94900.101563\n",
              "Name: Close, dtype: float64"
            ]
          },
          "execution_count": 111,
          "metadata": {},
          "output_type": "execute_result"
        }
      ],
      "source": [
        "close_df.describe()"
      ]
    },
    {
      "cell_type": "code",
      "execution_count": null,
      "metadata": {
        "colab": {
          "base_uri": "https://localhost:8080/",
          "height": 477
        },
        "id": "vnFaFxEFOtu1",
        "outputId": "ff69a8b0-1570-4cdf-be51-158d0b37b0c0"
      },
      "outputs": [
        {
          "data": {
            "image/png": "[encoded data removed]",
            "text/plain": [
              "<Figure size 640x480 with 1 Axes>"
            ]
          },
          "metadata": {},
          "output_type": "display_data"
        }
      ],
      "source": [
        "plt.plot(copy_df.Date, close_df)\n",
        "plt.xlabel(\"Time in Year\")\n",
        "plt.ylabel(\"Closing Price\");\n",
        "plt.title(\"Variation of Closing price with Time\",\n",
        "          color=\"orange\",\n",
        "          fontsize=18);"
      ]
    },
    {
      "cell_type": "markdown",
      "metadata": {
        "id": "V51UubxGOy70"
      },
      "source": [
        "#Preprocessing by MinMax Scaler.\n",
        "LSTM is very sensitive to small change in value and so to the scale of the data. Thus, using MinMax Scaler, we scale it in the range of [0,1]"
      ]
    },
    {
      "cell_type": "code",
      "execution_count": null,
      "metadata": {
        "colab": {
          "base_uri": "https://localhost:8080/"
        },
        "id": "hazU4T3yOvuv",
        "outputId": "3e723ece-59d5-46f6-e2c0-6539e4e71e9d"
      },
      "outputs": [
        {
          "data": {
            "text/plain": [
              "array([[0.        ],\n",
              "       [0.03595009],\n",
              "       [0.09353854],\n",
              "       [0.11843662],\n",
              "       [0.15741346],\n",
              "       [0.12968032],\n",
              "       [0.10276799],\n",
              "       [0.1546453 ],\n",
              "       [0.13908865],\n",
              "       [0.11841422],\n",
              "       [0.19321289],\n",
              "       [0.27168402],\n",
              "       [0.29800821],\n",
              "       [0.31032782],\n",
              "       [0.32107995],\n",
              "       [0.34375727],\n",
              "       [0.34901234],\n",
              "       [0.42880545],\n",
              "       [0.47290152],\n",
              "       [0.44309072],\n",
              "       [0.43723822],\n",
              "       [0.45189958],\n",
              "       [0.4229416 ],\n",
              "       [0.47630988],\n",
              "       [0.45084985],\n",
              "       [0.47746055],\n",
              "       [0.55868123],\n",
              "       [0.5874103 ],\n",
              "       [0.70402465],\n",
              "       [0.74955032],\n",
              "       [0.77061567],\n",
              "       [0.76960462],\n",
              "       [0.77644229],\n",
              "       [0.73258618],\n",
              "       [0.57432193],\n",
              "       [0.53836079],\n",
              "       [0.5618217 ],\n",
              "       [0.70481027],\n",
              "       [0.70042257],\n",
              "       [0.72789685],\n",
              "       [0.69939116],\n",
              "       [0.62501716],\n",
              "       [0.66474996],\n",
              "       [0.64125909],\n",
              "       [0.64797924],\n",
              "       [0.64154763],\n",
              "       [0.60976738],\n",
              "       [0.64499903],\n",
              "       [0.63672624],\n",
              "       [0.60746838],\n",
              "       [0.60363913],\n",
              "       [0.64100603],\n",
              "       [0.63637429],\n",
              "       [0.64616977],\n",
              "       [0.60192652],\n",
              "       [0.66150507],\n",
              "       [0.65193501],\n",
              "       [0.67131188],\n",
              "       [0.92436015],\n",
              "       [0.67284387],\n",
              "       [0.68177722],\n",
              "       [0.65602109],\n",
              "       [0.60466676],\n",
              "       [0.61322431],\n",
              "       [0.54202598],\n",
              "       [0.41384595],\n",
              "       [0.43896742],\n",
              "       [0.46077185],\n",
              "       [0.43118444],\n",
              "       [0.50685773],\n",
              "       [0.46849898],\n",
              "       [0.55045148],\n",
              "       [0.53610629],\n",
              "       [0.54837383],\n",
              "       [0.5309667 ],\n",
              "       [0.48550588],\n",
              "       [0.5376534 ],\n",
              "       [0.52390216],\n",
              "       [0.49552474],\n",
              "       [0.52969532],\n",
              "       [0.56023183],\n",
              "       [0.56251425],\n",
              "       [0.6005769 ],\n",
              "       [0.67701168],\n",
              "       [0.67949684],\n",
              "       [0.71863773],\n",
              "       [0.71938234],\n",
              "       [0.79404662],\n",
              "       [0.84612143],\n",
              "       [0.84847453],\n",
              "       [0.84067817],\n",
              "       [0.8420688 ],\n",
              "       [0.86403496],\n",
              "       [1.        ],\n",
              "       [0.70652289],\n",
              "       [0.72332124],\n",
              "       [0.67446516],\n",
              "       [0.67533833],\n",
              "       [0.72725287],\n",
              "       [0.73141341],\n",
              "       [0.73902536],\n",
              "       [0.74655528],\n",
              "       [0.78395359],\n",
              "       [0.77870405],\n",
              "       [0.77933494],\n",
              "       [0.79540002],\n",
              "       [0.81401366],\n",
              "       [0.87466987],\n",
              "       [0.91306789],\n",
              "       [0.95001565],\n",
              "       [0.97860714],\n",
              "       [0.98712193],\n",
              "       [0.99157101],\n",
              "       [0.98573305],\n",
              "       [0.92499104],\n",
              "       [0.85823626],\n",
              "       [0.87381007],\n",
              "       [0.86945203],\n",
              "       [0.85367753],\n",
              "       [0.86095614],\n",
              "       [0.85006236],\n",
              "       [0.78453242],\n",
              "       [0.81447352],\n",
              "       [0.7805208 ],\n",
              "       [0.75028767],\n",
              "       [0.7502801 ],\n",
              "       [0.67128571],\n",
              "       [0.72808504],\n",
              "       [0.74646017],\n",
              "       [0.74024641],\n",
              "       [0.72701843],\n",
              "       [0.76303921],\n",
              "       [0.7450102 ],\n",
              "       [0.77572356],\n",
              "       [0.74355995],\n",
              "       [0.86506433],\n",
              "       [0.9345259 ],\n",
              "       [0.9459223 ],\n",
              "       [0.97259262],\n",
              "       [0.86008297],\n",
              "       [0.7996295 ],\n",
              "       [0.80687844],\n",
              "       [0.78883635],\n",
              "       [0.79994596],\n",
              "       [0.82489436],\n",
              "       [0.83558512],\n",
              "       [0.80107219],\n",
              "       [0.82800313],\n",
              "       [0.83299758],\n",
              "       [0.80162134],\n",
              "       [0.75282489],\n",
              "       [0.79015979],\n",
              "       [0.8499338 ],\n",
              "       [0.89059184],\n",
              "       [0.9224576 ],\n",
              "       [0.92379791],\n",
              "       [0.91726391],\n",
              "       [0.88234144],\n",
              "       [0.90228958],\n",
              "       [0.77337424],\n",
              "       [0.78297425],\n",
              "       [0.77303363],\n",
              "       [0.74496541],\n",
              "       [0.77495305],\n",
              "       [0.78836893],\n",
              "       [0.77064359],\n",
              "       [0.7870772 ],\n",
              "       [0.81597206],\n",
              "       [0.730382  ],\n",
              "       [0.69585249],\n",
              "       [0.69845312],\n",
              "       [0.63673933],\n",
              "       [0.64096502],\n",
              "       [0.67119641],\n",
              "       [0.69852758],\n",
              "       [0.68216262],\n",
              "       [0.69527541],\n",
              "       [0.69666953],\n",
              "       [0.65363454],\n",
              "       [0.63555173],\n",
              "       [0.55979059],\n",
              "       [0.53804782],\n",
              "       [0.5237067 ],\n",
              "       [0.56218848],\n",
              "       [0.55329382],\n",
              "       [0.57779749],\n",
              "       [0.58472415],\n",
              "       [0.60906756],\n",
              "       [0.60031076],\n",
              "       [0.58965723],\n",
              "       [0.58337454],\n",
              "       [0.53332154],\n",
              "       [0.52016599],\n",
              "       [0.59593818],\n",
              "       [0.60910479],\n",
              "       [0.59231545],\n",
              "       [0.59438729],\n",
              "       [0.60901549],\n",
              "       [0.61715216],\n",
              "       [0.64839809],\n",
              "       [0.65065811],\n",
              "       [0.64542341],\n",
              "       [0.69922188],\n",
              "       [0.66258301],\n",
              "       [0.68735631],\n",
              "       [0.68790547],\n",
              "       [0.70200662],\n",
              "       [0.68954566],\n",
              "       [0.71448097],\n",
              "       [0.72284655],\n",
              "       [0.7805877 ]])"
            ]
          },
          "execution_count": 113,
          "metadata": {},
          "output_type": "execute_result"
        }
      ],
      "source": [
        "from sklearn.preprocessing import MinMaxScaler\n",
        "\n",
        "minmax = MinMaxScaler(feature_range=(0,1)) # (0,1) by default.But mentioned for understanding\n",
        "close_df = minmax.fit_transform(np.array(close_df).reshape(-1, 1))\n",
        "close_df"
      ]
    },
    {
      "cell_type": "code",
      "execution_count": null,
      "metadata": {
        "id": "9W_va3J0O69R"
      },
      "outputs": [],
      "source": [
        "train_size = int(len(close_df)*0.7)\n",
        "test_size = len(close_df) - train_size\n",
        "train_data = close_df[:train_size, :] # Slicing row from 0 to train_size indexlocation but column is kept unsliced.\n",
        "test_data = close_df[train_size:len(close_df), :1]"
      ]
    },
    {
      "cell_type": "code",
      "execution_count": null,
      "metadata": {
        "colab": {
          "base_uri": "https://localhost:8080/"
        },
        "id": "-xPNQrhIO9LM",
        "outputId": "2bf5ad8a-65b4-4d01-f5b9-18b0f81e6086"
      },
      "outputs": [
        {
          "data": {
            "text/plain": [
              "(147, 1)"
            ]
          },
          "execution_count": 115,
          "metadata": {},
          "output_type": "execute_result"
        }
      ],
      "source": [
        "train_data.shape"
      ]
    },
    {
      "cell_type": "code",
      "execution_count": null,
      "metadata": {
        "colab": {
          "base_uri": "https://localhost:8080/"
        },
        "id": "YfPyrH00O-0n",
        "outputId": "a2a68e68-1241-478d-8b85-481d9bdeeb45"
      },
      "outputs": [
        {
          "data": {
            "text/plain": [
              "(64, 1)"
            ]
          },
          "execution_count": 116,
          "metadata": {},
          "output_type": "execute_result"
        }
      ],
      "source": [
        "test_data.shape"
      ]
    },
    {
      "cell_type": "code",
      "execution_count": null,
      "metadata": {
        "colab": {
          "base_uri": "https://localhost:8080/"
        },
        "id": "obGX0Y9SPEVp",
        "outputId": "81cdfc9b-e9c9-4700-88fe-db9e06528835"
      },
      "outputs": [
        {
          "data": {
            "text/plain": [
              "array([[0.82800313],\n",
              "       [0.83299758],\n",
              "       [0.80162134],\n",
              "       [0.75282489],\n",
              "       [0.79015979],\n",
              "       [0.8499338 ],\n",
              "       [0.89059184],\n",
              "       [0.9224576 ],\n",
              "       [0.92379791],\n",
              "       [0.91726391]])"
            ]
          },
          "execution_count": 117,
          "metadata": {},
          "output_type": "execute_result"
        }
      ],
      "source": [
        "test_data[:10]"
      ]
    },
    {
      "cell_type": "markdown",
      "metadata": {
        "id": "haT4rvsdPKQX"
      },
      "source": [
        "#Preparing our dataset for training, fitting and testing of LSTM model\n",
        "\n",
        "\n",
        "Suppose our dataset is: 122, 124, 135, 167, 187, 193, 199, 221, 228, 300\n",
        "\n",
        "train_data = 122, 124, 135, 167, 187, 193\n",
        "\n",
        "test_data =  199, 221, 228, 300\n"
      ]
    },
    {
      "cell_type": "code",
      "execution_count": null,
      "metadata": {
        "id": "E2JXkGPVPPQ7"
      },
      "outputs": [],
      "source": [
        "#This function will create dataset as mentioned above...\n",
        "\n",
        "def create_dataset(dataset, time_step):\n",
        "    X_data = []\n",
        "    Y_data = []\n",
        "    for i in range(len(dataset)-time_step-1):\n",
        "        X_data.append(dataset[i:(i+time_step), 0])\n",
        "        Y_data.append(dataset[i+time_step, 0])\n",
        "    return np.array(X_data), np.array(Y_data)"
      ]
    },
    {
      "cell_type": "code",
      "execution_count": null,
      "metadata": {
        "id": "uuBS2UqSPhPF"
      },
      "outputs": [],
      "source": [
        "# Reshaping into tuples of the form with X=t, t+1,..t+99 and Y=t+100 for time_step=100\n",
        "\n",
        "time_step = 100\n",
        "X_train, y_train = create_dataset(train_data, time_step)\n",
        "X_test, y_test = create_dataset(test_data, time_step)"
      ]
    },
    {
      "cell_type": "code",
      "execution_count": null,
      "metadata": {
        "colab": {
          "base_uri": "https://localhost:8080/"
        },
        "id": "ZnaK9_1aPlyj",
        "outputId": "d87a00e1-9c46-472d-8a85-e22e0627c022"
      },
      "outputs": [
        {
          "data": {
            "text/plain": [
              "(46, 100)"
            ]
          },
          "execution_count": 129,
          "metadata": {},
          "output_type": "execute_result"
        }
      ],
      "source": [
        "X_train.shape"
      ]
    },
    {
      "cell_type": "code",
      "execution_count": null,
      "metadata": {
        "colab": {
          "base_uri": "https://localhost:8080/"
        },
        "id": "0IrSY1B4PoRf",
        "outputId": "f6af109e-b701-4612-8e2e-89ead30ecf97"
      },
      "outputs": [
        {
          "data": {
            "text/plain": [
              "(46,)"
            ]
          },
          "execution_count": 130,
          "metadata": {},
          "output_type": "execute_result"
        }
      ],
      "source": [
        "y_train.shape"
      ]
    },
    {
      "cell_type": "code",
      "execution_count": null,
      "metadata": {
        "colab": {
          "base_uri": "https://localhost:8080/"
        },
        "id": "PUDutrfxPqiu",
        "outputId": "a5b8870d-f849-4b16-c485-c97b7c741599"
      },
      "outputs": [
        {
          "data": {
            "text/plain": [
              "((0,), (0,))"
            ]
          },
          "execution_count": 131,
          "metadata": {},
          "output_type": "execute_result"
        }
      ],
      "source": [
        "X_test.shape, y_test.shape"
      ]
    },
    {
      "cell_type": "markdown",
      "metadata": {
        "id": "MXUMm5qvPtrH"
      },
      "source": [
        "## Reshaping input into 3-Dimensional form required for LSTM."
      ]
    },
    {
      "cell_type": "code",
      "execution_count": null,
      "metadata": {
        "colab": {
          "base_uri": "https://localhost:8080/",
          "height": 183
        },
        "id": "h00sobNiPtPM",
        "outputId": "16e4c4f1-48bf-4d1e-e46c-41c2acc6853d"
      },
      "outputs": [
        {
          "ename": "IndexError",
          "evalue": "ignored",
          "output_type": "error",
          "traceback": [
            "\u001b[0;31m---------------------------------------------------------------------------\u001b[0m",
            "\u001b[0;31mIndexError\u001b[0m                                Traceback (most recent call last)",
            "\u001b[0;32m<ipython-input-125-c6b81006669a>\u001b[0m in \u001b[0;36m<cell line: 2>\u001b[0;34m()\u001b[0m\n\u001b[1;32m      1\u001b[0m \u001b[0mX_train\u001b[0m \u001b[0;34m=\u001b[0m \u001b[0mX_train\u001b[0m\u001b[0;34m.\u001b[0m\u001b[0mreshape\u001b[0m\u001b[0;34m(\u001b[0m\u001b[0mX_train\u001b[0m\u001b[0;34m.\u001b[0m\u001b[0mshape\u001b[0m\u001b[0;34m[\u001b[0m\u001b[0;36m0\u001b[0m\u001b[0;34m]\u001b[0m\u001b[0;34m,\u001b[0m \u001b[0mX_train\u001b[0m\u001b[0;34m.\u001b[0m\u001b[0mshape\u001b[0m\u001b[0;34m[\u001b[0m\u001b[0;36m1\u001b[0m\u001b[0;34m]\u001b[0m\u001b[0;34m,\u001b[0m \u001b[0;36m1\u001b[0m\u001b[0;34m)\u001b[0m\u001b[0;34m\u001b[0m\u001b[0;34m\u001b[0m\u001b[0m\n\u001b[0;32m----> 2\u001b[0;31m \u001b[0mX_test\u001b[0m \u001b[0;34m=\u001b[0m \u001b[0mX_test\u001b[0m\u001b[0;34m.\u001b[0m\u001b[0mreshape\u001b[0m\u001b[0;34m(\u001b[0m\u001b[0mX_test\u001b[0m\u001b[0;34m.\u001b[0m\u001b[0mshape\u001b[0m\u001b[0;34m[\u001b[0m\u001b[0;36m0\u001b[0m\u001b[0;34m]\u001b[0m\u001b[0;34m,\u001b[0m \u001b[0mX_test\u001b[0m\u001b[0;34m.\u001b[0m\u001b[0mshape\u001b[0m\u001b[0;34m[\u001b[0m\u001b[0;36m1\u001b[0m\u001b[0;34m]\u001b[0m\u001b[0;34m,\u001b[0m \u001b[0;36m1\u001b[0m\u001b[0;34m)\u001b[0m\u001b[0;34m\u001b[0m\u001b[0;34m\u001b[0m\u001b[0m\n\u001b[0m",
            "\u001b[0;31mIndexError\u001b[0m: tuple index out of range"
          ]
        }
      ],
      "source": [
        "X_train = X_train.reshape(X_train.shape[0], X_train.shape[1], 1)\n",
        "X_test = X_test.reshape(X_test.shape[0], X_test.shape[1], 1)"
      ]
    },
    {
      "cell_type": "markdown",
      "metadata": {
        "id": "tnm6aI69P4XR"
      },
      "source": [
        "# Constructing Stacked LSTM model."
      ]
    },
    {
      "cell_type": "code",
      "execution_count": null,
      "metadata": {
        "id": "r4PeqZ8gP1DK"
      },
      "outputs": [],
      "source": [
        "# Constructing our stacked LSTM model\n",
        "from tensorflow.keras.models import Sequential\n",
        "from tensorflow.keras.layers import Dense\n",
        "from tensorflow.keras.layers import LSTM\n",
        "\n",
        "model = Sequential()\n",
        "model.add(LSTM(50, return_sequences=True, input_shape=(time_step, 1))) #Input layer with 50 neurons\n",
        "model.add(LSTM(50, return_sequences=True)) # Hidden layers with 50 neurons\n",
        "model.add(LSTM(50))\n",
        "model.add(Dense(1))# Output Layer\n",
        "model.compile(loss='mean_squared_error', optimizer='adam')"
      ]
    },
    {
      "cell_type": "code",
      "execution_count": null,
      "metadata": {
        "colab": {
          "base_uri": "https://localhost:8080/"
        },
        "id": "RONiJStNQBYB",
        "outputId": "4dbe2882-7aac-4ddf-868f-55a06381f1ea"
      },
      "outputs": [
        {
          "name": "stdout",
          "output_type": "stream",
          "text": [
            "Model: \"sequential_2\"\n",
            "_________________________________________________________________\n",
            " Layer (type)                Output Shape              Param #   \n",
            "=================================================================\n",
            " lstm_6 (LSTM)               (None, 100, 50)           10400     \n",
            "                                                                 \n",
            " lstm_7 (LSTM)               (None, 100, 50)           20200     \n",
            "                                                                 \n",
            " lstm_8 (LSTM)               (None, 50)                20200     \n",
            "                                                                 \n",
            " dense_2 (Dense)             (None, 1)                 51        \n",
            "                                                                 \n",
            "=================================================================\n",
            "Total params: 50,851\n",
            "Trainable params: 50,851\n",
            "Non-trainable params: 0\n",
            "_________________________________________________________________\n"
          ]
        }
      ],
      "source": [
        "model.summary()"
      ]
    },
    {
      "cell_type": "code",
      "execution_count": null,
      "metadata": {
        "colab": {
          "background_save": true,
          "base_uri": "https://localhost:8080/"
        },
        "id": "IDf4Cf1IQEG9",
        "outputId": "76257320-3829-46c3-b805-70b13ebae191"
      },
      "outputs": [
        {
          "name": "stdout",
          "output_type": "stream",
          "text": [
            "Epoch 1/100\n",
            "1/1 [==============================] - 0s 339ms/step - loss: 0.0078\n",
            "Epoch 2/100\n",
            "1/1 [==============================] - 0s 307ms/step - loss: 0.0078\n",
            "Epoch 3/100\n",
            "1/1 [==============================] - 0s 290ms/step - loss: 0.0078\n",
            "Epoch 4/100\n",
            "1/1 [==============================] - 0s 291ms/step - loss: 0.0078\n",
            "Epoch 5/100\n",
            "1/1 [==============================] - 0s 178ms/step - loss: 0.0078\n",
            "Epoch 6/100\n",
            "1/1 [==============================] - 0s 188ms/step - loss: 0.0078\n",
            "Epoch 7/100\n",
            "1/1 [==============================] - 0s 279ms/step - loss: 0.0078\n",
            "Epoch 8/100\n",
            "1/1 [==============================] - 0s 216ms/step - loss: 0.0078\n",
            "Epoch 9/100\n",
            "1/1 [==============================] - 0s 170ms/step - loss: 0.0078\n",
            "Epoch 10/100\n",
            "1/1 [==============================] - 0s 181ms/step - loss: 0.0078\n",
            "Epoch 11/100\n",
            "1/1 [==============================] - 0s 169ms/step - loss: 0.0078\n",
            "Epoch 12/100\n",
            "1/1 [==============================] - 0s 165ms/step - loss: 0.0078\n",
            "Epoch 13/100\n",
            "1/1 [==============================] - 0s 170ms/step - loss: 0.0078\n",
            "Epoch 14/100\n",
            "1/1 [==============================] - 0s 178ms/step - loss: 0.0078\n",
            "Epoch 15/100\n",
            "1/1 [==============================] - 0s 198ms/step - loss: 0.0077\n",
            "Epoch 16/100\n",
            "1/1 [==============================] - 0s 188ms/step - loss: 0.0077\n",
            "Epoch 17/100\n",
            "1/1 [==============================] - 0s 177ms/step - loss: 0.0077\n",
            "Epoch 18/100\n",
            "1/1 [==============================] - 0s 175ms/step - loss: 0.0077\n",
            "Epoch 19/100\n",
            "1/1 [==============================] - 0s 176ms/step - loss: 0.0077\n",
            "Epoch 20/100\n",
            "1/1 [==============================] - 0s 172ms/step - loss: 0.0077\n",
            "Epoch 21/100\n",
            "1/1 [==============================] - 0s 166ms/step - loss: 0.0077\n",
            "Epoch 22/100\n",
            "1/1 [==============================] - 0s 176ms/step - loss: 0.0077\n",
            "Epoch 23/100\n",
            "1/1 [==============================] - 0s 172ms/step - loss: 0.0077\n",
            "Epoch 24/100\n",
            "1/1 [==============================] - 0s 175ms/step - loss: 0.0077\n",
            "Epoch 25/100\n",
            "1/1 [==============================] - 0s 195ms/step - loss: 0.0077\n",
            "Epoch 26/100\n",
            "1/1 [==============================] - 0s 168ms/step - loss: 0.0077\n",
            "Epoch 27/100\n",
            "1/1 [==============================] - 0s 176ms/step - loss: 0.0077\n",
            "Epoch 28/100\n",
            "1/1 [==============================] - 0s 171ms/step - loss: 0.0077\n",
            "Epoch 29/100\n",
            "1/1 [==============================] - 0s 168ms/step - loss: 0.0077\n",
            "Epoch 30/100\n",
            "1/1 [==============================] - 0s 173ms/step - loss: 0.0076\n",
            "Epoch 31/100\n",
            "1/1 [==============================] - 0s 169ms/step - loss: 0.0076\n",
            "Epoch 32/100\n",
            "1/1 [==============================] - 0s 203ms/step - loss: 0.0076\n",
            "Epoch 33/100\n",
            "1/1 [==============================] - 0s 310ms/step - loss: 0.0076\n",
            "Epoch 34/100\n",
            "1/1 [==============================] - 0s 166ms/step - loss: 0.0076\n",
            "Epoch 35/100\n",
            "1/1 [==============================] - 0s 177ms/step - loss: 0.0076\n",
            "Epoch 36/100\n",
            "1/1 [==============================] - 0s 180ms/step - loss: 0.0076\n",
            "Epoch 37/100\n",
            "1/1 [==============================] - 0s 175ms/step - loss: 0.0076\n",
            "Epoch 38/100\n",
            "1/1 [==============================] - 0s 196ms/step - loss: 0.0076\n",
            "Epoch 39/100\n",
            "1/1 [==============================] - 0s 166ms/step - loss: 0.0076\n",
            "Epoch 40/100\n",
            "1/1 [==============================] - 0s 186ms/step - loss: 0.0076\n",
            "Epoch 41/100\n",
            "1/1 [==============================] - 0s 183ms/step - loss: 0.0076\n",
            "Epoch 42/100\n",
            "1/1 [==============================] - 0s 192ms/step - loss: 0.0076\n",
            "Epoch 43/100\n",
            "1/1 [==============================] - 0s 192ms/step - loss: 0.0076\n",
            "Epoch 44/100\n",
            "1/1 [==============================] - 0s 176ms/step - loss: 0.0076\n",
            "Epoch 45/100\n",
            "1/1 [==============================] - 0s 166ms/step - loss: 0.0075\n",
            "Epoch 46/100\n",
            "1/1 [==============================] - 0s 176ms/step - loss: 0.0075\n",
            "Epoch 47/100\n",
            "1/1 [==============================] - 0s 170ms/step - loss: 0.0075\n",
            "Epoch 48/100\n",
            "1/1 [==============================] - 0s 172ms/step - loss: 0.0075\n",
            "Epoch 49/100\n",
            "1/1 [==============================] - 0s 181ms/step - loss: 0.0075\n",
            "Epoch 50/100\n",
            "1/1 [==============================] - 0s 185ms/step - loss: 0.0075\n",
            "Epoch 51/100\n",
            "1/1 [==============================] - 0s 174ms/step - loss: 0.0075\n",
            "Epoch 52/100\n",
            "1/1 [==============================] - 0s 193ms/step - loss: 0.0075\n",
            "Epoch 53/100\n",
            "1/1 [==============================] - 0s 166ms/step - loss: 0.0075\n",
            "Epoch 54/100\n",
            "1/1 [==============================] - 0s 186ms/step - loss: 0.0075\n",
            "Epoch 55/100\n",
            "1/1 [==============================] - 0s 201ms/step - loss: 0.0075\n",
            "Epoch 56/100\n",
            "1/1 [==============================] - 0s 186ms/step - loss: 0.0075\n",
            "Epoch 57/100\n",
            "1/1 [==============================] - 0s 180ms/step - loss: 0.0075\n",
            "Epoch 58/100\n",
            "1/1 [==============================] - 0s 301ms/step - loss: 0.0075\n",
            "Epoch 59/100\n",
            "1/1 [==============================] - 0s 320ms/step - loss: 0.0075\n",
            "Epoch 60/100\n",
            "1/1 [==============================] - 0s 309ms/step - loss: 0.0074\n",
            "Epoch 61/100\n",
            "1/1 [==============================] - 0s 300ms/step - loss: 0.0074\n",
            "Epoch 62/100\n",
            "1/1 [==============================] - 0s 315ms/step - loss: 0.0074\n",
            "Epoch 63/100\n",
            "1/1 [==============================] - 0s 343ms/step - loss: 0.0074\n",
            "Epoch 64/100\n",
            "1/1 [==============================] - 0s 285ms/step - loss: 0.0074\n",
            "Epoch 65/100\n",
            "1/1 [==============================] - 0s 297ms/step - loss: 0.0074\n",
            "Epoch 66/100\n",
            "1/1 [==============================] - 0s 287ms/step - loss: 0.0074\n",
            "Epoch 67/100\n",
            "1/1 [==============================] - 0s 357ms/step - loss: 0.0074\n",
            "Epoch 68/100\n",
            "1/1 [==============================] - 0s 301ms/step - loss: 0.0074\n",
            "Epoch 69/100\n",
            "1/1 [==============================] - 0s 371ms/step - loss: 0.0074\n",
            "Epoch 70/100\n",
            "1/1 [==============================] - 0s 372ms/step - loss: 0.0074\n",
            "Epoch 71/100\n",
            "1/1 [==============================] - 0s 319ms/step - loss: 0.0074\n",
            "Epoch 72/100\n",
            "1/1 [==============================] - 0s 366ms/step - loss: 0.0074\n",
            "Epoch 73/100\n",
            "1/1 [==============================] - 0s 309ms/step - loss: 0.0074\n",
            "Epoch 74/100\n",
            "1/1 [==============================] - 0s 373ms/step - loss: 0.0074\n",
            "Epoch 75/100\n",
            "1/1 [==============================] - 0s 313ms/step - loss: 0.0073\n",
            "Epoch 76/100\n",
            "1/1 [==============================] - 0s 316ms/step - loss: 0.0073\n",
            "Epoch 77/100\n",
            "1/1 [==============================] - 0s 309ms/step - loss: 0.0073\n",
            "Epoch 78/100\n",
            "1/1 [==============================] - 0s 373ms/step - loss: 0.0073\n",
            "Epoch 79/100\n",
            "1/1 [==============================] - 0s 322ms/step - loss: 0.0073\n",
            "Epoch 80/100\n",
            "1/1 [==============================] - 0s 341ms/step - loss: 0.0073\n",
            "Epoch 81/100\n",
            "1/1 [==============================] - 0s 385ms/step - loss: 0.0073\n",
            "Epoch 82/100\n",
            "1/1 [==============================] - 0s 331ms/step - loss: 0.0073\n",
            "Epoch 83/100\n",
            "1/1 [==============================] - 0s 371ms/step - loss: 0.0073\n",
            "Epoch 84/100\n",
            "1/1 [==============================] - 0s 438ms/step - loss: 0.0073\n",
            "Epoch 85/100\n",
            "1/1 [==============================] - 0s 389ms/step - loss: 0.0073\n",
            "Epoch 86/100\n",
            "1/1 [==============================] - 0s 360ms/step - loss: 0.0073\n",
            "Epoch 87/100\n",
            "1/1 [==============================] - 0s 363ms/step - loss: 0.0073\n",
            "Epoch 88/100\n",
            "1/1 [==============================] - 0s 310ms/step - loss: 0.0072\n",
            "Epoch 89/100\n",
            "1/1 [==============================] - 0s 460ms/step - loss: 0.0072\n",
            "Epoch 90/100\n",
            "1/1 [==============================] - 0s 365ms/step - loss: 0.0072\n",
            "Epoch 91/100\n",
            "1/1 [==============================] - 1s 577ms/step - loss: 0.0072\n",
            "Epoch 92/100\n",
            "1/1 [==============================] - 0s 319ms/step - loss: 0.0072\n",
            "Epoch 93/100\n",
            "1/1 [==============================] - 0s 291ms/step - loss: 0.0072\n",
            "Epoch 94/100\n",
            "1/1 [==============================] - 0s 432ms/step - loss: 0.0072\n",
            "Epoch 95/100\n",
            "1/1 [==============================] - 1s 601ms/step - loss: 0.0072\n",
            "Epoch 96/100\n",
            "1/1 [==============================] - 1s 605ms/step - loss: 0.0072\n",
            "Epoch 97/100\n",
            "1/1 [==============================] - 1s 683ms/step - loss: 0.0072\n",
            "Epoch 98/100\n",
            "1/1 [==============================] - 1s 538ms/step - loss: 0.0072\n",
            "Epoch 99/100\n",
            "1/1 [==============================] - 1s 551ms/step - loss: 0.0072\n",
            "Epoch 100/100\n",
            "1/1 [==============================] - 0s 421ms/step - loss: 0.0071\n"
          ]
        }
      ],
      "source": [
        "model.fit(X_train, y_train, validation_data=(X_test, y_test), epochs=100, batch_size=64, verbose=1);"
      ]
    },
    {
      "cell_type": "markdown",
      "metadata": {
        "id": "nrhcBTcSQSYS"
      },
      "source": [
        "#Evaluation of constructed LSTM Model.\n",
        "Visualizing Loss Function..."
      ]
    },
    {
      "cell_type": "code",
      "execution_count": null,
      "metadata": {
        "colab": {
          "base_uri": "https://localhost:8080/",
          "height": 474
        },
        "id": "K_5t_UBiRx_7",
        "outputId": "ef910e2e-87bf-4875-e505-3b98eb638972"
      },
      "outputs": [
        {
          "data": {
            "image/png": "[encoded data removed]",
            "text/plain": [
              "<Figure size 640x480 with 1 Axes>"
            ]
          },
          "metadata": {},
          "output_type": "display_data"
        }
      ],
      "source": [
        "# Ploting Loss of our trained model\n",
        "\n",
        "loss = model.history.history['loss']\n",
        "plt.plot(loss)\n",
        "plt.xlabel(\"No. of Iterations...\")\n",
        "plt.ylabel(\"Loss Value...\")\n",
        "plt.title(\"Variations of Loss value with No. of Iterations\", color=\"orange\", fontsize=16, fontweight=\"bold\");"
      ]
    },
    {
      "cell_type": "code",
      "execution_count": null,
      "metadata": {
        "colab": {
          "base_uri": "https://localhost:8080/"
        },
        "id": "noe8H8oCR8Oq",
        "outputId": "d53cf810-0154-46be-ce02-7a15832c1201"
      },
      "outputs": [
        {
          "name": "stdout",
          "output_type": "stream",
          "text": [
            "42/42 [==============================] - 3s 37ms/step\n",
            "16/16 [==============================] - 1s 35ms/step\n"
          ]
        }
      ],
      "source": [
        "train_preds = minmax.inverse_transform(model.predict(X_train))\n",
        "test_preds = minmax.inverse_transform(model.predict(X_test))"
      ]
    },
    {
      "cell_type": "code",
      "execution_count": null,
      "metadata": {
        "colab": {
          "base_uri": "https://localhost:8080/"
        },
        "id": "wC9iR8TxSEG7",
        "outputId": "31a3d641-84cd-418c-bbc0-99b471e0be06"
      },
      "outputs": [
        {
          "data": {
            "text/plain": [
              "134.52401855600155"
            ]
          },
          "execution_count": 51,
          "metadata": {},
          "output_type": "execute_result"
        }
      ],
      "source": [
        "import math\n",
        "from sklearn.metrics import mean_squared_error\n",
        "\n",
        "math.sqrt(mean_squared_error(y_train,train_preds))"
      ]
    },
    {
      "cell_type": "code",
      "execution_count": null,
      "metadata": {
        "colab": {
          "base_uri": "https://localhost:8080/"
        },
        "id": "Jxk93K-0SLdQ",
        "outputId": "9e5d9d8a-572a-49fd-cd93-b9be9ad22000"
      },
      "outputs": [
        {
          "data": {
            "text/plain": [
              "210.55123363835816"
            ]
          },
          "execution_count": 52,
          "metadata": {},
          "output_type": "execute_result"
        }
      ],
      "source": [
        "math.sqrt(mean_squared_error(y_test, test_preds))"
      ]
    },
    {
      "cell_type": "code",
      "execution_count": null,
      "metadata": {
        "colab": {
          "base_uri": "https://localhost:8080/"
        },
        "id": "6fIm409BSNR_",
        "outputId": "bcdd0317-e907-4dbd-bb98-22e03a36cd04"
      },
      "outputs": [
        {
          "data": {
            "text/plain": [
              "array([[0.16584967],\n",
              "       [0.16319444],\n",
              "       [0.1621732 ],\n",
              "       ...,\n",
              "       [0.62622549],\n",
              "       [0.62214052],\n",
              "       [0.62418301]])"
            ]
          },
          "execution_count": 53,
          "metadata": {},
          "output_type": "execute_result"
        }
      ],
      "source": [
        "close_df"
      ]
    },
    {
      "cell_type": "code",
      "execution_count": null,
      "metadata": {
        "colab": {
          "base_uri": "https://localhost:8080/"
        },
        "id": "N8LvUgR_SPAW",
        "outputId": "9a7d63eb-fd46-4c48-d213-c7f1193041b8"
      },
      "outputs": [
        {
          "data": {
            "text/plain": [
              "(1323, 1)"
            ]
          },
          "execution_count": 54,
          "metadata": {},
          "output_type": "execute_result"
        }
      ],
      "source": [
        "train_preds.shape"
      ]
    },
    {
      "cell_type": "code",
      "execution_count": null,
      "metadata": {
        "colab": {
          "base_uri": "https://localhost:8080/",
          "height": 474
        },
        "id": "7yaSBmzYSR2n",
        "outputId": "b94fa83a-fdab-48d7-c68a-67ca2aaae411"
      },
      "outputs": [
        {
          "data": {
            "image/png": "[encoded data removed]",
            "text/plain": [
              "<Figure size 640x480 with 1 Axes>"
            ]
          },
          "metadata": {},
          "output_type": "display_data"
        }
      ],
      "source": [
        "# shift train predictions for plotting\n",
        "\n",
        "look_back=100  # to align predicted and actual on same curve...\n",
        "\n",
        "trainPredictPlot = np.empty_like(close_df)\n",
        "trainPredictPlot[:, :] = np.nan\n",
        "trainPredictPlot[look_back:len(train_preds)+look_back, :] = train_preds\n",
        "\n",
        "# shift test predictions for plotting\n",
        "testPredictPlot = np.empty_like(close_df)\n",
        "testPredictPlot[:, :] = np.nan\n",
        "testPredictPlot[len(train_preds)+(look_back*2)+1:len(close_df)-1, :] = test_preds\n",
        "\n",
        "# plot baseline i.e. Actual value of Closing price..\n",
        "\n",
        "plt.plot(minmax.inverse_transform(close_df))\n",
        "plt.title(\"Variation of Actual dataset\", color=\"orange\", fontsize=16, fontweight=\"bold\")\n",
        "plt.xlabel(\"Data Index Number\")\n",
        "plt.ylabel(\"Clossing price\");"
      ]
    },
    {
      "cell_type": "code",
      "execution_count": null,
      "metadata": {
        "colab": {
          "base_uri": "https://localhost:8080/",
          "height": 417
        },
        "id": "sqRDOwLnSVBx",
        "outputId": "7ef50d06-736d-46a8-8c3c-a2d3e1ef9219"
      },
      "outputs": [
        {
          "data": {
            "image/png": "[encoded data removed]",
            "text/plain": [
              "<Figure size 640x480 with 1 Axes>"
            ]
          },
          "metadata": {},
          "output_type": "display_data"
        }
      ],
      "source": [
        "# Plot of Predictions on Closing Price made by our model on training dataset vs Actual Closing Price\n",
        "\n",
        "plt.plot(minmax.inverse_transform(close_df))\n",
        "plt.plot(trainPredictPlot)\n",
        "plt.title(\"Variation of Predicted trained dataset(orange) and actual dataset(lightblue)\", color=\"orange\", fontsize=16, fontweight=\"bold\")\n",
        "plt.xlabel(\"Data Index Number\")\n",
        "plt.ylabel(\"Clossing price\");"
      ]
    },
    {
      "cell_type": "code",
      "execution_count": null,
      "metadata": {
        "colab": {
          "base_uri": "https://localhost:8080/",
          "height": 428
        },
        "id": "MI5PbsjHSX5I",
        "outputId": "d09208f4-8002-4ba6-96c5-5bb7f33b52ab"
      },
      "outputs": [
        {
          "data": {
            "image/png": "[encoded data removed]",
            "text/plain": [
              "<Figure size 640x480 with 1 Axes>"
            ]
          },
          "metadata": {},
          "output_type": "display_data"
        }
      ],
      "source": [
        "# Plot of Predictions on Closing Price made by our model on training dataset vs Actual Closing Price\n",
        "# vs Predictions on CLosing Price made by our model on test dataset\n",
        "\n",
        "plt.plot(minmax.inverse_transform(close_df))\n",
        "plt.plot(trainPredictPlot)\n",
        "plt.title(\"Variation of Predicted tested dataset(green) and actual dataset(lightblue)\", color=\"orange\", fontsize=16, fontweight=\"bold\")\n",
        "plt.xlabel(\"Data Index Number\")\n",
        "plt.ylabel(\"Clossing price\");\n",
        "plt.plot(testPredictPlot)\n",
        "plt.show()"
      ]
    },
    {
      "cell_type": "code",
      "execution_count": null,
      "metadata": {
        "colab": {
          "base_uri": "https://localhost:8080/",
          "height": 362
        },
        "id": "TiDzBCOKSej-",
        "outputId": "5d6f2d77-d852-412a-93c1-6cdf377f163a"
      },
      "outputs": [
        {
          "data": {
            "image/png": "[encoded data removed]",
            "text/plain": [
              "<Figure size 1500x500 with 2 Axes>"
            ]
          },
          "metadata": {},
          "output_type": "display_data"
        }
      ],
      "source": [
        "fig, (ax0, ax1) = plt.subplots(nrows=1,\n",
        "                               ncols=2,\n",
        "                               figsize=(15,5))\n",
        "ax0.plot(minmax.inverse_transform(close_df))\n",
        "ax0.set(xlabel=\"Data index number\",\n",
        "        ylabel=\"Clossing price\",\n",
        "        title=\"Actual dataset\");\n",
        "\n",
        "ax0.set(xlabel=\"Data index number\",\n",
        "        ylabel=\"Clossing price\",\n",
        "        title=\"Actual dataset\");\n",
        "\n",
        "ax1.plot(minmax.inverse_transform(close_df))\n",
        "ax1.plot(trainPredictPlot)\n",
        "ax1.plot(testPredictPlot)\n",
        "\n",
        "\n",
        "ax1.set(xlabel=\"Data index number\",\n",
        "        ylabel=\"Clossing price\",\n",
        "        title=\"Actual dataset vs Prediction on train vs Prediction on test\");\n",
        "\n",
        "fig.suptitle(t=\"Plot of Baseline(Actual) and Predictions(Train and Test Predicted)\",\n",
        "             color=\"orange\",\n",
        "             fontsize=16,\n",
        "             fontweight=\"bold\");\n"
      ]
    },
    {
      "cell_type": "markdown",
      "metadata": {
        "id": "pn56lWttSiDN"
      },
      "source": [
        "#Step-9: Forecasting for future 30 days."
      ]
    },
    {
      "cell_type": "code",
      "execution_count": null,
      "metadata": {
        "colab": {
          "base_uri": "https://localhost:8080/"
        },
        "id": "Ey51ZyfgSj_H",
        "outputId": "3aac10e1-2cd3-48ee-b61b-59e4e98d1148"
      },
      "outputs": [
        {
          "data": {
            "text/plain": [
              "611"
            ]
          },
          "execution_count": 59,
          "metadata": {},
          "output_type": "execute_result"
        }
      ],
      "source": [
        "# Let's check length of test_data...\n",
        "\n",
        "len(test_data)"
      ]
    },
    {
      "cell_type": "code",
      "execution_count": null,
      "metadata": {
        "colab": {
          "base_uri": "https://localhost:8080/"
        },
        "id": "vsp6BRF2Sm7d",
        "outputId": "db0218bb-54fd-46bf-f9a1-a8aec82c1f23"
      },
      "outputs": [
        {
          "data": {
            "text/plain": [
              "(611, 1)"
            ]
          },
          "execution_count": 60,
          "metadata": {},
          "output_type": "execute_result"
        }
      ],
      "source": [
        "test_data.shape"
      ]
    },
    {
      "cell_type": "markdown",
      "metadata": {
        "id": "kbco4yz2Srl_"
      },
      "source": [
        "# Considering last 100 days data for the future prediction...\n",
        "\n",
        "611-100 = 511"
      ]
    },
    {
      "cell_type": "code",
      "execution_count": null,
      "metadata": {
        "colab": {
          "base_uri": "https://localhost:8080/"
        },
        "id": "8JioStiaSzCh",
        "outputId": "3ccbcc28-8385-4453-d5c8-d5c79e0d85fd"
      },
      "outputs": [
        {
          "data": {
            "text/plain": [
              "array([[0.85273693],\n",
              "       [0.86213235],\n",
              "       [0.83455882],\n",
              "       [0.84375   ],\n",
              "       [0.71466503]])"
            ]
          },
          "execution_count": 61,
          "metadata": {},
          "output_type": "execute_result"
        }
      ],
      "source": [
        "preds_input = test_data[511:]\n",
        "preds_input[:5]"
      ]
    },
    {
      "cell_type": "code",
      "execution_count": null,
      "metadata": {
        "colab": {
          "base_uri": "https://localhost:8080/"
        },
        "id": "cxslurnUS3hR",
        "outputId": "d7e2f25b-8a87-40e3-80a0-629517383e2a"
      },
      "outputs": [
        {
          "data": {
            "text/plain": [
              "(100, 1)"
            ]
          },
          "execution_count": 62,
          "metadata": {},
          "output_type": "execute_result"
        }
      ],
      "source": [
        "preds_input.shape"
      ]
    },
    {
      "cell_type": "code",
      "execution_count": null,
      "metadata": {
        "colab": {
          "base_uri": "https://localhost:8080/"
        },
        "id": "7VSX6k7HS6YB",
        "outputId": "17c3e8fc-123d-41e7-c1fb-815361813fc5"
      },
      "outputs": [
        {
          "data": {
            "text/plain": [
              "(1, 100)"
            ]
          },
          "execution_count": 63,
          "metadata": {},
          "output_type": "execute_result"
        }
      ],
      "source": [
        "# Reshaping into row matrix\n",
        "\n",
        "preds_input = preds_input.reshape(1, -1)\n",
        "preds_input.shape"
      ]
    },
    {
      "cell_type": "code",
      "execution_count": null,
      "metadata": {
        "colab": {
          "base_uri": "https://localhost:8080/"
        },
        "id": "8DcNLGEcS8G3",
        "outputId": "dfe7c22c-5144-4b9c-995e-f1aa93e50e37"
      },
      "outputs": [
        {
          "data": {
            "text/plain": [
              "1"
            ]
          },
          "execution_count": 64,
          "metadata": {},
          "output_type": "execute_result"
        }
      ],
      "source": [
        "temp_input = list(preds_input)\n",
        "len(temp_input)"
      ]
    },
    {
      "cell_type": "code",
      "execution_count": null,
      "metadata": {
        "id": "S0Ux3klwS-As"
      },
      "outputs": [],
      "source": [
        "temp_input = temp_input[0].tolist()"
      ]
    },
    {
      "cell_type": "code",
      "execution_count": null,
      "metadata": {
        "colab": {
          "base_uri": "https://localhost:8080/"
        },
        "id": "W9zSLzNXS_tY",
        "outputId": "5c8d2550-5eed-4111-d239-051fa0d22463"
      },
      "outputs": [
        {
          "data": {
            "text/plain": [
              "100"
            ]
          },
          "execution_count": 66,
          "metadata": {},
          "output_type": "execute_result"
        }
      ],
      "source": [
        "len(temp_input)"
      ]
    },
    {
      "cell_type": "code",
      "execution_count": null,
      "metadata": {
        "colab": {
          "base_uri": "https://localhost:8080/"
        },
        "id": "oYoABJD-TBK-",
        "outputId": "01dc129a-9842-4d28-e20c-ed62178c1eca"
      },
      "outputs": [
        {
          "data": {
            "text/plain": [
              "list"
            ]
          },
          "execution_count": 67,
          "metadata": {},
          "output_type": "execute_result"
        }
      ],
      "source": [
        "type(temp_input)"
      ]
    },
    {
      "cell_type": "code",
      "execution_count": null,
      "metadata": {
        "colab": {
          "base_uri": "https://localhost:8080/"
        },
        "id": "YtD8PB9tTDY9",
        "outputId": "82f876bb-6ca7-4932-edbc-02b243731ca4"
      },
      "outputs": [
        {
          "data": {
            "text/plain": [
              "100"
            ]
          },
          "execution_count": 68,
          "metadata": {},
          "output_type": "execute_result"
        }
      ],
      "source": [
        "preds_input.shape[1]"
      ]
    },
    {
      "cell_type": "markdown",
      "metadata": {
        "id": "weBjHPFITIUw"
      },
      "source": [
        "# Demonstrating prediction for next 3 days just for debugging and understanding how it is working"
      ]
    },
    {
      "cell_type": "code",
      "execution_count": null,
      "metadata": {
        "id": "VD-pjDGtTHA_"
      },
      "outputs": [],
      "source": [
        "#demonstrating prediction for next 30 days\n",
        "\n",
        "Thirty_days_output=[]\n",
        "i=0\n",
        "\n",
        "while(i<30):\n",
        "    if(len(temp_input)>100):\n",
        "        temp_input = temp_input[1:]\n",
        "        preds_input=np.array(temp_input) # getting latest 100 data\n",
        "        preds_input=preds_input.reshape(1,-1)\n",
        "\n",
        "\n",
        "\n",
        "    preds_input = preds_input.reshape((1, time_step,1))\n",
        "    day_output = model.predict(preds_input, verbose=0)\n",
        "    temp_input.extend(day_output[0].tolist())\n",
        "    Thirty_days_output.extend(day_output.tolist())\n",
        "\n",
        "    #print(f\"Day-{i+1} input:\\n\\n{preds_input}\\n\\n\")\n",
        "    #print(f\"Day-{i+1} output:\\n\\n{day_output}\\n\\n\")\n",
        "    i=i+1"
      ]
    },
    {
      "cell_type": "code",
      "execution_count": null,
      "metadata": {
        "colab": {
          "base_uri": "https://localhost:8080/"
        },
        "id": "lCXNn5cgTPni",
        "outputId": "ad60c9a4-da34-4b7d-b07a-022f32b5e010"
      },
      "outputs": [
        {
          "name": "stdout",
          "output_type": "stream",
          "text": [
            "[[0.6198039054870605], [0.6107912063598633], [0.601123571395874], [0.5922377705574036], [0.5839852690696716], [0.5761100649833679], [0.5685631036758423], [0.5614027976989746], [0.5547066926956177], [0.5485406517982483], [0.5429519414901733], [0.5379694104194641], [0.5336037278175354], [0.529848575592041], [0.5266834497451782], [0.5240762233734131], [0.5219857096672058], [0.5203640460968018], [0.519159197807312], [0.5183169841766357], [0.51778244972229], [0.5175014138221741], [0.5174216628074646], [0.5174937844276428], [0.517672061920166], [0.5179144144058228], [0.5181840062141418], [0.5184482932090759], [0.5186797380447388], [0.51885586977005]]\n"
          ]
        }
      ],
      "source": [
        "print(Thirty_days_output)"
      ]
    },
    {
      "cell_type": "code",
      "execution_count": null,
      "metadata": {
        "id": "O1YGgDIVTULA"
      },
      "outputs": [],
      "source": [
        "\n",
        "latest_100_days = np.arange(1,101)\n",
        "predicted_30_days = np.arange(101,131)"
      ]
    },
    {
      "cell_type": "code",
      "execution_count": null,
      "metadata": {
        "colab": {
          "base_uri": "https://localhost:8080/"
        },
        "id": "cXdB0IdpTWxQ",
        "outputId": "c36026a6-3c84-40a9-fac5-ba6ef0858049"
      },
      "outputs": [
        {
          "data": {
            "text/plain": [
              "2035"
            ]
          },
          "execution_count": 72,
          "metadata": {},
          "output_type": "execute_result"
        }
      ],
      "source": [
        "len(close_df)"
      ]
    },
    {
      "cell_type": "code",
      "execution_count": null,
      "metadata": {
        "colab": {
          "base_uri": "https://localhost:8080/",
          "height": 430
        },
        "id": "RfBnm27kTYgV",
        "outputId": "5402407a-3650-46f3-8592-43b77d6e98d3"
      },
      "outputs": [
        {
          "data": {
            "image/png": "[encoded data removed]",
            "text/plain": [
              "<Figure size 640x480 with 1 Axes>"
            ]
          },
          "metadata": {},
          "output_type": "display_data"
        }
      ],
      "source": [
        "Latest_100_days_output = close_df[1935:]\n",
        "plt.plot(latest_100_days, minmax.inverse_transform(Latest_100_days_output))\n",
        "plt.plot(predicted_30_days, minmax.inverse_transform(Thirty_days_output));"
      ]
    },
    {
      "cell_type": "markdown",
      "metadata": {
        "id": "gn8sNI6sTbCt"
      },
      "source": [
        "# Graph is discontinuous but we can make graph continuous by appending both Latest_100_days_output and Thirty_days_output data in a list."
      ]
    },
    {
      "cell_type": "code",
      "execution_count": null,
      "metadata": {
        "colab": {
          "base_uri": "https://localhost:8080/"
        },
        "id": "Iut0VhBtTgUu",
        "outputId": "3f871879-5442-4587-fadc-2ab47d9346d9"
      },
      "outputs": [
        {
          "data": {
            "text/plain": [
              "(numpy.ndarray, list)"
            ]
          },
          "execution_count": 74,
          "metadata": {},
          "output_type": "execute_result"
        }
      ],
      "source": [
        "type(Latest_100_days_output), type(Thirty_days_output)"
      ]
    },
    {
      "cell_type": "code",
      "execution_count": null,
      "metadata": {
        "colab": {
          "base_uri": "https://localhost:8080/"
        },
        "id": "pF992BfoTiOy",
        "outputId": "04468465-91c0-4ac8-a85c-186608d44cf9"
      },
      "outputs": [
        {
          "name": "stdout",
          "output_type": "stream",
          "text": [
            "130\n"
          ]
        }
      ],
      "source": [
        "Latest_100_days_output_list = Latest_100_days_output.tolist()\n",
        "Latest_100_days_output_list.extend(Thirty_days_output)\n",
        "print(len(Latest_100_days_output_list))"
      ]
    },
    {
      "cell_type": "code",
      "execution_count": null,
      "metadata": {
        "colab": {
          "base_uri": "https://localhost:8080/",
          "height": 430
        },
        "id": "M0FPgpK4Tk5h",
        "outputId": "cee346d5-78d3-4ec7-dcf9-5dd6ca9c4f0f"
      },
      "outputs": [
        {
          "data": {
            "image/png": "[encoded data removed]",
            "text/plain": [
              "<Figure size 640x480 with 1 Axes>"
            ]
          },
          "metadata": {},
          "output_type": "display_data"
        }
      ],
      "source": [
        "plt.plot(minmax.inverse_transform(Latest_100_days_output_list));"
      ]
    },
    {
      "cell_type": "markdown",
      "metadata": {
        "id": "AIeBRd4FTobV"
      },
      "source": [
        "## Let's Visualize in single frame..."
      ]
    },
    {
      "cell_type": "code",
      "execution_count": null,
      "metadata": {
        "colab": {
          "base_uri": "https://localhost:8080/",
          "height": 362
        },
        "id": "9u6T4bA7TqLA",
        "outputId": "ff82840d-e43c-4ed1-e561-f040141481cf"
      },
      "outputs": [
        {
          "data": {
            "image/png": "[encoded data removed]",
            "text/plain": [
              "<Figure size 1500x500 with 2 Axes>"
            ]
          },
          "metadata": {},
          "output_type": "display_data"
        }
      ],
      "source": [
        "fig, (ax0, ax1) = plt.subplots(nrows=1,\n",
        "                               ncols=2,\n",
        "                               figsize=(15,5))\n",
        "\n",
        "ax0.plot(latest_100_days, minmax.inverse_transform(Latest_100_days_output))\n",
        "ax0.plot(predicted_30_days, minmax.inverse_transform(Thirty_days_output));\n",
        "\n",
        "ax0.set(xlabel=\"Data index number\",\n",
        "        ylabel=\"Clossing price\",\n",
        "        title=\"Dicontinuous Graph\");\n",
        "\n",
        "\n",
        "\n",
        "ax1.plot(minmax.inverse_transform(Latest_100_days_output_list));\n",
        "\n",
        "\n",
        "ax1.set(xlabel=\"Data index number\",\n",
        "        ylabel=\"Clossing price\",\n",
        "        title=\"Continuous Grpah\");\n",
        "\n",
        "fig.suptitle(t=\"Graph of last 130 days\",\n",
        "             color=\"orange\",\n",
        "             fontsize=16,\n",
        "             fontweight=\"bold\");"
      ]
    }
  ],
  "metadata": {
    "colab": {
      "provenance": [],
      "authorship_tag": "ABX9TyP5WysN2DFzWp0fYEyVp9VP",
      "include_colab_link": true
    },
    "kernelspec": {
      "display_name": "Python 3",
      "name": "python3"
    },
    "language_info": {
      "name": "python"
    }
  },
  "nbformat": 4,
  "nbformat_minor": 0
}